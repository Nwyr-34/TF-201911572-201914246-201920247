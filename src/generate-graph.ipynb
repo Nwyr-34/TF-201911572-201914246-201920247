{
 "cells": [
  {
   "cell_type": "code",
   "execution_count": 1,
   "metadata": {},
   "outputs": [],
   "source": [
    "import csv\n",
    "import numpy as np"
   ]
  },
  {
   "cell_type": "markdown",
   "metadata": {},
   "source": [
    "Con estas 2 funciones creamos el grafo a partir de los datos previamente recolectados e insertados en archivos de la carpeta \"data\""
   ]
  },
  {
   "cell_type": "code",
   "execution_count": 9,
   "metadata": {},
   "outputs": [],
   "source": [
    "def buildGraph(graph, func, limit=None):\n",
    "  text = ''\n",
    "  i = 1\n",
    "  for key in graph.keys():\n",
    "    if limit:\n",
    "      if i > limit:\n",
    "        break\n",
    "\n",
    "    text += f'{key}:'\n",
    "\n",
    "    for value in graph[key]:\n",
    "      text += f'{value}' + (', ' if value != graph[key][-1] else '')\n",
    "\n",
    "    text += '\\n'\n",
    "    i+=1\n",
    "  \n",
    "  func(text)"
   ]
  },
  {
   "cell_type": "markdown",
   "metadata": {},
   "source": [
    "Para el grafo la estructura de datos que se usará es un diccionario, donde las llaves serán los ids de las calles de origen y los valores serán arreglos que contengan los ids de las calles de destino"
   ]
  },
  {
   "cell_type": "code",
   "execution_count": 2,
   "metadata": {},
   "outputs": [
    {
     "name": "stdout",
     "output_type": "stream",
     "text": [
      "32301\n",
      "9648996489\n",
      "10000000\n",
      "[]\n",
      "81739\n",
      "8174081740\n",
      "10000000\n",
      "[]\n",
      "96442\n",
      "1700017000\n",
      "10000000\n",
      "[]\n",
      "62260\n",
      "6225962259\n",
      "10000000\n",
      "[]\n",
      "25993\n",
      "9644496444\n",
      "10000000\n",
      "[]\n",
      "96439\n",
      "9647896478\n",
      "10000000\n",
      "[]\n",
      "70216\n",
      "6080760807\n",
      "10000000\n",
      "[]\n",
      "28391\n",
      "9647696446\n",
      "10000000\n",
      "[]\n",
      "3731\n",
      "9497011717\n",
      "10000000\n",
      "[]\n",
      "94970\n",
      "1191111911\n",
      "10000000\n",
      "[]\n",
      "11911\n",
      "9497111912\n",
      "10000000\n",
      "[]\n",
      "94971\n",
      "9497294972\n",
      "10000000\n",
      "[]\n",
      "94972\n",
      "9497394973\n",
      "10000000\n",
      "[]\n",
      "94973\n",
      "9497494974\n",
      "10000000\n",
      "[]\n",
      "8980\n",
      "37363736\n",
      "10000000\n",
      "[]\n",
      "8981\n",
      "89828982\n",
      "10000000\n",
      "[]\n",
      "8982\n",
      "9398793987\n",
      "10000000\n",
      "[]\n",
      "81699\n",
      "9648196481\n",
      "10000000\n",
      "[]\n",
      "43530\n",
      "4353143531\n",
      "10000000\n",
      "[]\n",
      "12149\n",
      "1215012150\n",
      "10000000\n",
      "[]\n",
      "4228\n",
      "42264226\n",
      "10000000\n",
      "[]\n",
      "4316\n",
      "46674667\n",
      "10000000\n",
      "[]\n",
      "4669\n",
      "6776467764\n",
      "10000000\n",
      "[]\n",
      "5633\n",
      "563445479\n",
      "10000000\n",
      "[]\n",
      "5849\n",
      "58485848\n",
      "10000000\n",
      "[]\n",
      "5886\n",
      "58875887\n",
      "10000000\n",
      "[]\n",
      "6260\n",
      "62616261\n",
      "10000000\n",
      "[]\n",
      "6613\n",
      "66146614\n",
      "10000000\n",
      "[]\n",
      "6941\n",
      "69426942\n",
      "10000000\n",
      "[]\n",
      "7095\n",
      "70967096\n",
      "10000000\n",
      "[]\n",
      "7250\n",
      "74007400\n",
      "10000000\n",
      "[]\n"
     ]
    },
    {
     "ename": "KeyboardInterrupt",
     "evalue": "",
     "output_type": "error",
     "traceback": [
      "\u001b[1;31m---------------------------------------------------------------------------\u001b[0m",
      "\u001b[1;31mKeyboardInterrupt\u001b[0m                         Traceback (most recent call last)",
      "\u001b[1;32md:\\DiegoAlonso\\myfiles\\dev\\vscode\\universidad\\complejidad-ciclo-6\\tf_complejidad\\src\\generate-graph.ipynb Cell 5'\u001b[0m in \u001b[0;36m<cell line: 4>\u001b[1;34m()\u001b[0m\n\u001b[0;32m     <a href='vscode-notebook-cell:/d%3A/DiegoAlonso/myfiles/dev/vscode/universidad/complejidad-ciclo-6/tf_complejidad/src/generate-graph.ipynb#ch0000004?line=15'>16</a>\u001b[0m \u001b[39mfor\u001b[39;00m j \u001b[39min\u001b[39;00m line[\u001b[39m2\u001b[39m:]:\n\u001b[0;32m     <a href='vscode-notebook-cell:/d%3A/DiegoAlonso/myfiles/dev/vscode/universidad/complejidad-ciclo-6/tf_complejidad/src/generate-graph.ipynb#ch0000004?line=16'>17</a>\u001b[0m   j \u001b[39m=\u001b[39m \u001b[39mint\u001b[39m(j)\n\u001b[1;32m---> <a href='vscode-notebook-cell:/d%3A/DiegoAlonso/myfiles/dev/vscode/universidad/complejidad-ciclo-6/tf_complejidad/src/generate-graph.ipynb#ch0000004?line=17'>18</a>\u001b[0m   weight \u001b[39m=\u001b[39m dbApi\u001b[39m.\u001b[39;49mgetIntersectionInfo(source, j, DB_API\u001b[39m.\u001b[39;49mCOST)\n\u001b[0;32m     <a href='vscode-notebook-cell:/d%3A/DiegoAlonso/myfiles/dev/vscode/universidad/complejidad-ciclo-6/tf_complejidad/src/generate-graph.ipynb#ch0000004?line=18'>19</a>\u001b[0m   weight \u001b[39m=\u001b[39m weight[\u001b[39m0\u001b[39m] \u001b[39mif\u001b[39;00m \u001b[39mlen\u001b[39m(weight) \u001b[39m>\u001b[39m \u001b[39m0\u001b[39m \u001b[39melse\u001b[39;00m \u001b[39m0\u001b[39m\n\u001b[0;32m     <a href='vscode-notebook-cell:/d%3A/DiegoAlonso/myfiles/dev/vscode/universidad/complejidad-ciclo-6/tf_complejidad/src/generate-graph.ipynb#ch0000004?line=19'>20</a>\u001b[0m   target\u001b[39m.\u001b[39mappend((j, weight))\n",
      "File \u001b[1;32md:\\DiegoAlonso\\myfiles\\dev\\vscode\\universidad\\complejidad-ciclo-6\\tf_complejidad\\src\\library\\lima_node_api.py:89\u001b[0m, in \u001b[0;36mDB_API.getIntersectionInfo\u001b[1;34m(self, source, target, flags)\u001b[0m\n\u001b[0;32m     86\u001b[0m query\u001b[39m=\u001b[39m\u001b[39mf\u001b[39m\u001b[39m\"\u001b[39m\u001b[39mSELECT \u001b[39m\u001b[39m{\u001b[39;00mflagsForQuery\u001b[39m}\u001b[39;00m\u001b[39m FROM \u001b[39m\u001b[39m\\\"\u001b[39;00m\u001b[39mhh_2po_4pgr\u001b[39m\u001b[39m\\\"\u001b[39;00m\u001b[39m WHERE source=\u001b[39m\u001b[39m\"\u001b[39m\u001b[39m+\u001b[39m\u001b[39mstr\u001b[39m(source)\u001b[39m+\u001b[39m\u001b[39m\"\u001b[39m\u001b[39m and target=\u001b[39m\u001b[39m\"\u001b[39m\u001b[39m+\u001b[39m\u001b[39mstr\u001b[39m(target)\n\u001b[0;32m     88\u001b[0m \u001b[39mtry\u001b[39;00m:\n\u001b[1;32m---> 89\u001b[0m     \u001b[39mself\u001b[39;49m\u001b[39m.\u001b[39;49mcur\u001b[39m.\u001b[39;49mexecute(query)\n\u001b[0;32m     90\u001b[0m \u001b[39mexcept\u001b[39;00m \u001b[39mException\u001b[39;00m \u001b[39mas\u001b[39;00m e:\n\u001b[0;32m     91\u001b[0m     \u001b[39mself\u001b[39m\u001b[39m.\u001b[39mconnection\u001b[39m.\u001b[39mcommit()\n",
      "File \u001b[1;32md:\\DiegoAlonso\\programs\\miniconda\\miniconda3\\envs\\my-env\\lib\\encodings\\utf_8.py:15\u001b[0m, in \u001b[0;36mdecode\u001b[1;34m(input, errors)\u001b[0m\n\u001b[0;32m     11\u001b[0m \u001b[39m### Codec APIs\u001b[39;00m\n\u001b[0;32m     13\u001b[0m encode \u001b[39m=\u001b[39m codecs\u001b[39m.\u001b[39mutf_8_encode\n\u001b[1;32m---> 15\u001b[0m \u001b[39mdef\u001b[39;00m \u001b[39mdecode\u001b[39m(\u001b[39minput\u001b[39m, errors\u001b[39m=\u001b[39m\u001b[39m'\u001b[39m\u001b[39mstrict\u001b[39m\u001b[39m'\u001b[39m):\n\u001b[0;32m     16\u001b[0m     \u001b[39mreturn\u001b[39;00m codecs\u001b[39m.\u001b[39mutf_8_decode(\u001b[39minput\u001b[39m, errors, \u001b[39mTrue\u001b[39;00m)\n\u001b[0;32m     18\u001b[0m \u001b[39mclass\u001b[39;00m \u001b[39mIncrementalEncoder\u001b[39;00m(codecs\u001b[39m.\u001b[39mIncrementalEncoder):\n",
      "\u001b[1;31mKeyboardInterrupt\u001b[0m: "
     ]
    }
   ],
   "source": [
    "from library.lima_node_api import DB_API\n",
    "dbApi = DB_API()\n",
    "\n",
    "with open('../data/streets_intersections.csv', mode ='r')as file:\n",
    "  csvFile = csv.reader(file, delimiter=\";\")\n",
    "  origins_targets = dict()\n",
    "  i = 1\n",
    "\n",
    "  for line in csvFile:\n",
    "    if i == 1:\n",
    "      i += 1\n",
    "      continue\n",
    "    source = int(line[0])\n",
    "    target = []\n",
    "\n",
    "    for j in line[2:]:\n",
    "      j = int(j)\n",
    "      weight = dbApi.getIntersectionInfo(source, j, DB_API.COST + DB_API.DISTANCE)\n",
    "      weight = weight[0] if len(weight) > 0 else 0\n",
    "      target.append((j, weight))\n",
    "\n",
    "    origins_targets[source] = target\n",
    "    i += 1\n",
    "\n",
    "dbApi.endDbConnection()\n",
    "\n",
    "print('\\ngrafo')\n",
    "buildGraph(origins_targets, print, 5)"
   ]
  },
  {
   "cell_type": "markdown",
   "metadata": {},
   "source": [
    "Importamos de nuestra librería la función que mostrará el grafo"
   ]
  },
  {
   "cell_type": "code",
   "execution_count": 30,
   "metadata": {},
   "outputs": [],
   "source": [
    "from library.draw_adj_List import adjlShow"
   ]
  },
  {
   "cell_type": "markdown",
   "metadata": {},
   "source": [
    "Creamos una lista limitada"
   ]
  },
  {
   "cell_type": "code",
   "execution_count": 11,
   "metadata": {},
   "outputs": [
    {
     "name": "stdout",
     "output_type": "stream",
     "text": [
      "\n",
      "grafo\n",
      "1:6\n",
      "6:90275\n",
      "90275:79\n",
      "79:51668, 3466\n",
      "51668:7, 3467\n",
      "\n"
     ]
    }
   ],
   "source": [
    "with open('../data/streets_intersections.csv', mode ='r')as file:\n",
    "  csvFile = csv.reader(file, delimiter=\";\")\n",
    "  origins_targets_limited = dict()\n",
    "  i = 1\n",
    "\n",
    "  for line in csvFile:\n",
    "    if i == 1:\n",
    "      i += 1\n",
    "      continue\n",
    "    source = int(line[0])\n",
    "    target = [int(x) for x in line[2:]]\n",
    "    origins_targets_limited[source] = target\n",
    "    \n",
    "    if i > 50:\n",
    "      break\n",
    "    i += 1\n",
    "\n",
    "print('\\ngrafo')\n",
    "buildGraph(origins_targets_limited, print, 5)"
   ]
  },
  {
   "cell_type": "markdown",
   "metadata": {},
   "source": [
    "Mostramos el grafo con la lista limitada"
   ]
  },
  {
   "cell_type": "code",
   "execution_count": 31,
   "metadata": {},
   "outputs": [
    {
     "data": {
      "image/svg+xml": "<?xml version=\"1.0\" encoding=\"UTF-8\" standalone=\"no\"?>\n<!DOCTYPE svg PUBLIC \"-//W3C//DTD SVG 1.1//EN\"\n \"http://www.w3.org/Graphics/SVG/1.1/DTD/svg11.dtd\">\n<!-- Generated by graphviz version 4.0.0 (0)\n -->\n<!-- Title: G Pages: 1 -->\n<svg width=\"922pt\" height=\"871pt\"\n viewBox=\"0.00 0.00 922.00 871.00\" xmlns=\"http://www.w3.org/2000/svg\" xmlns:xlink=\"http://www.w3.org/1999/xlink\">\n<g id=\"graph0\" class=\"graph\" transform=\"scale(1 1) rotate(0) translate(4 867)\">\n<title>G</title>\n<polygon fill=\"white\" stroke=\"transparent\" points=\"-4,4 -4,-867 918,-867 918,4 -4,4\"/>\n<!-- 1 -->\n<g id=\"node1\" class=\"node\">\n<title>1</title>\n<ellipse fill=\"none\" stroke=\"orangered\" cx=\"182.58\" cy=\"-310.26\" rx=\"14.7\" ry=\"12.04\"/>\n<text text-anchor=\"middle\" x=\"182.58\" y=\"-308.36\" font-family=\"monospace\" font-size=\"8.00\" fill=\"mediumslateblue\">1</text>\n</g>\n<!-- 6 -->\n<g id=\"node2\" class=\"node\">\n<title>6</title>\n<ellipse fill=\"none\" stroke=\"orangered\" cx=\"233.31\" cy=\"-340.75\" rx=\"14.7\" ry=\"12.04\"/>\n<text text-anchor=\"middle\" x=\"233.31\" y=\"-338.85\" font-family=\"monospace\" font-size=\"8.00\" fill=\"mediumslateblue\">6</text>\n</g>\n<!-- 1&#45;&gt;6 -->\n<g id=\"edge1\" class=\"edge\">\n<title>1&#45;&gt;6</title>\n<path fill=\"none\" stroke=\"gray\" d=\"M194.6,-317.49C200.04,-320.75 206.61,-324.71 212.79,-328.42\"/>\n<polygon fill=\"gray\" stroke=\"gray\" points=\"211,-331.43 221.37,-333.58 214.61,-325.43 211,-331.43\"/>\n</g>\n<!-- 90275 -->\n<g id=\"node3\" class=\"node\">\n<title>90275</title>\n<ellipse fill=\"none\" stroke=\"orangered\" cx=\"252.21\" cy=\"-408.14\" rx=\"27.65\" ry=\"12.04\"/>\n<text text-anchor=\"middle\" x=\"252.21\" y=\"-406.24\" font-family=\"monospace\" font-size=\"8.00\" fill=\"mediumslateblue\">90275</text>\n</g>\n<!-- 6&#45;&gt;90275 -->\n<g id=\"edge2\" class=\"edge\">\n<title>6&#45;&gt;90275</title>\n<path fill=\"none\" stroke=\"gray\" d=\"M236.6,-352.49C239.2,-361.75 242.9,-374.93 246.04,-386.14\"/>\n<polygon fill=\"gray\" stroke=\"gray\" points=\"242.76,-387.4 248.83,-396.09 249.5,-385.51 242.76,-387.4\"/>\n</g>\n<!-- 79 -->\n<g id=\"node4\" class=\"node\">\n<title>79</title>\n<ellipse fill=\"none\" stroke=\"orangered\" cx=\"222.57\" cy=\"-466.62\" rx=\"18.27\" ry=\"12.04\"/>\n<text text-anchor=\"middle\" x=\"222.57\" y=\"-464.72\" font-family=\"monospace\" font-size=\"8.00\" fill=\"mediumslateblue\">79</text>\n</g>\n<!-- 90275&#45;&gt;79 -->\n<g id=\"edge3\" class=\"edge\">\n<title>90275&#45;&gt;79</title>\n<path fill=\"none\" stroke=\"gray\" d=\"M246.22,-419.98C242.43,-427.45 237.44,-437.3 233.02,-446.02\"/>\n<polygon fill=\"gray\" stroke=\"gray\" points=\"229.76,-444.7 228.36,-455.2 236.01,-447.87 229.76,-444.7\"/>\n</g>\n<!-- 51668 -->\n<g id=\"node5\" class=\"node\">\n<title>51668</title>\n<ellipse fill=\"none\" stroke=\"orangered\" cx=\"199.4\" cy=\"-548.43\" rx=\"27.65\" ry=\"12.04\"/>\n<text text-anchor=\"middle\" x=\"199.4\" y=\"-546.53\" font-family=\"monospace\" font-size=\"8.00\" fill=\"mediumslateblue\">51668</text>\n</g>\n<!-- 79&#45;&gt;51668 -->\n<g id=\"edge4\" class=\"edge\">\n<title>79&#45;&gt;51668</title>\n<path fill=\"none\" stroke=\"gray\" d=\"M219.16,-478.69C215.59,-491.26 209.94,-511.21 205.59,-526.56\"/>\n<polygon fill=\"gray\" stroke=\"gray\" points=\"202.19,-525.73 202.83,-536.31 208.93,-527.64 202.19,-525.73\"/>\n</g>\n<!-- 3466 -->\n<g id=\"node51\" class=\"node\">\n<title>3466</title>\n<ellipse fill=\"none\" stroke=\"orangered\" cx=\"175.97\" cy=\"-408.28\" rx=\"25\" ry=\"12.04\"/>\n<text text-anchor=\"middle\" x=\"175.97\" y=\"-406.38\" font-family=\"monospace\" font-size=\"8.00\" fill=\"mediumslateblue\">3466</text>\n</g>\n<!-- 79&#45;&gt;3466 -->\n<g id=\"edge5\" class=\"edge\">\n<title>79&#45;&gt;3466</title>\n<path fill=\"none\" stroke=\"gray\" d=\"M214.03,-455.92C207.75,-448.06 199.04,-437.17 191.54,-427.78\"/>\n<polygon fill=\"gray\" stroke=\"gray\" points=\"194.08,-425.34 185.1,-419.71 188.61,-429.71 194.08,-425.34\"/>\n</g>\n<!-- 7 -->\n<g id=\"node6\" class=\"node\">\n<title>7</title>\n<ellipse fill=\"none\" stroke=\"orangered\" cx=\"267.53\" cy=\"-576.01\" rx=\"14.7\" ry=\"12.04\"/>\n<text text-anchor=\"middle\" x=\"267.53\" y=\"-574.11\" font-family=\"monospace\" font-size=\"8.00\" fill=\"mediumslateblue\">7</text>\n</g>\n<!-- 51668&#45;&gt;7 -->\n<g id=\"edge6\" class=\"edge\">\n<title>51668&#45;&gt;7</title>\n<path fill=\"none\" stroke=\"gray\" d=\"M219.84,-556.7C227.67,-559.87 236.64,-563.5 244.68,-566.76\"/>\n<polygon fill=\"gray\" stroke=\"gray\" points=\"243.62,-570.11 254.21,-570.61 246.25,-563.62 243.62,-570.11\"/>\n</g>\n<!-- 3467 -->\n<g id=\"node52\" class=\"node\">\n<title>3467</title>\n<ellipse fill=\"none\" stroke=\"orangered\" cx=\"156.23\" cy=\"-613.41\" rx=\"25\" ry=\"12.04\"/>\n<text text-anchor=\"middle\" x=\"156.23\" y=\"-611.51\" font-family=\"monospace\" font-size=\"8.00\" fill=\"mediumslateblue\">3467</text>\n</g>\n<!-- 51668&#45;&gt;3467 -->\n<g id=\"edge7\" class=\"edge\">\n<title>51668&#45;&gt;3467</title>\n<path fill=\"none\" stroke=\"gray\" d=\"M191.68,-560.04C185.54,-569.29 176.81,-582.43 169.55,-593.37\"/>\n<polygon fill=\"gray\" stroke=\"gray\" points=\"166.5,-591.63 163.88,-601.9 172.33,-595.5 166.5,-591.63\"/>\n</g>\n<!-- 10 -->\n<g id=\"node7\" class=\"node\">\n<title>10</title>\n<ellipse fill=\"none\" stroke=\"orangered\" cx=\"250.44\" cy=\"-511.85\" rx=\"18.27\" ry=\"12.04\"/>\n<text text-anchor=\"middle\" x=\"250.44\" y=\"-509.95\" font-family=\"monospace\" font-size=\"8.00\" fill=\"mediumslateblue\">10</text>\n</g>\n<!-- 7&#45;&gt;10 -->\n<g id=\"edge8\" class=\"edge\">\n<title>7&#45;&gt;10</title>\n<path fill=\"none\" stroke=\"gray\" d=\"M264.4,-564.24C262.14,-555.76 259.02,-544.05 256.3,-533.86\"/>\n<polygon fill=\"gray\" stroke=\"gray\" points=\"259.63,-532.74 253.67,-523.98 252.86,-534.54 259.63,-532.74\"/>\n</g>\n<!-- 20398 -->\n<g id=\"node17\" class=\"node\">\n<title>20398</title>\n<ellipse fill=\"none\" stroke=\"orangered\" cx=\"330.88\" cy=\"-621.78\" rx=\"27.65\" ry=\"12.04\"/>\n<text text-anchor=\"middle\" x=\"330.88\" y=\"-619.88\" font-family=\"monospace\" font-size=\"8.00\" fill=\"mediumslateblue\">20398</text>\n</g>\n<!-- 7&#45;&gt;20398 -->\n<g id=\"edge9\" class=\"edge\">\n<title>7&#45;&gt;20398</title>\n<path fill=\"none\" stroke=\"gray\" d=\"M278.86,-584.19C287.01,-590.08 298.27,-598.22 308.23,-605.41\"/>\n<polygon fill=\"gray\" stroke=\"gray\" points=\"306.39,-608.4 316.54,-611.42 310.49,-602.72 306.39,-608.4\"/>\n</g>\n<!-- 89757 -->\n<g id=\"node8\" class=\"node\">\n<title>89757</title>\n<ellipse fill=\"none\" stroke=\"orangered\" cx=\"167.61\" cy=\"-505.1\" rx=\"27.65\" ry=\"12.04\"/>\n<text text-anchor=\"middle\" x=\"167.61\" y=\"-503.2\" font-family=\"monospace\" font-size=\"8.00\" fill=\"mediumslateblue\">89757</text>\n</g>\n<!-- 10&#45;&gt;89757 -->\n<g id=\"edge10\" class=\"edge\">\n<title>10&#45;&gt;89757</title>\n<path fill=\"none\" stroke=\"gray\" d=\"M232.06,-510.35C224.01,-509.7 214.25,-508.9 204.8,-508.13\"/>\n<polygon fill=\"gray\" stroke=\"gray\" points=\"205,-504.63 194.75,-507.31 204.43,-511.61 205,-504.63\"/>\n</g>\n<!-- 20115 -->\n<g id=\"node53\" class=\"node\">\n<title>20115</title>\n<ellipse fill=\"none\" stroke=\"orangered\" cx=\"321.9\" cy=\"-542.75\" rx=\"27.65\" ry=\"12.04\"/>\n<text text-anchor=\"middle\" x=\"321.9\" y=\"-540.85\" font-family=\"monospace\" font-size=\"8.00\" fill=\"mediumslateblue\">20115</text>\n</g>\n<!-- 10&#45;&gt;20115 -->\n<g id=\"edge11\" class=\"edge\">\n<title>10&#45;&gt;20115</title>\n<path fill=\"none\" stroke=\"gray\" d=\"M265.94,-518.56C273.81,-521.95 283.61,-526.2 292.81,-530.17\"/>\n<polygon fill=\"gray\" stroke=\"gray\" points=\"291.5,-533.42 302.07,-534.18 294.28,-526.99 291.5,-533.42\"/>\n</g>\n<!-- 3473 -->\n<g id=\"node9\" class=\"node\">\n<title>3473</title>\n<ellipse fill=\"none\" stroke=\"orangered\" cx=\"107.72\" cy=\"-430.01\" rx=\"25\" ry=\"12.04\"/>\n<text text-anchor=\"middle\" x=\"107.72\" y=\"-428.11\" font-family=\"monospace\" font-size=\"8.00\" fill=\"mediumslateblue\">3473</text>\n</g>\n<!-- 89757&#45;&gt;3473 -->\n<g id=\"edge12\" class=\"edge\">\n<title>89757&#45;&gt;3473</title>\n<path fill=\"none\" stroke=\"gray\" d=\"M158.52,-493.69C149.2,-482.01 134.52,-463.61 123.34,-449.59\"/>\n<polygon fill=\"gray\" stroke=\"gray\" points=\"125.88,-447.16 116.9,-441.52 120.4,-451.52 125.88,-447.16\"/>\n</g>\n<!-- 3472 -->\n<g id=\"node10\" class=\"node\">\n<title>3472</title>\n<ellipse fill=\"none\" stroke=\"orangered\" cx=\"109.61\" cy=\"-346.85\" rx=\"25\" ry=\"12.04\"/>\n<text text-anchor=\"middle\" x=\"109.61\" y=\"-344.95\" font-family=\"monospace\" font-size=\"8.00\" fill=\"mediumslateblue\">3472</text>\n</g>\n<!-- 3473&#45;&gt;3472 -->\n<g id=\"edge13\" class=\"edge\">\n<title>3473&#45;&gt;3472</title>\n<path fill=\"none\" stroke=\"gray\" d=\"M108,-417.74C108.29,-405.02 108.74,-384.84 109.1,-369.26\"/>\n<polygon fill=\"gray\" stroke=\"gray\" points=\"112.61,-368.98 109.33,-358.9 105.61,-368.82 112.61,-368.98\"/>\n</g>\n<!-- 20129 -->\n<g id=\"node54\" class=\"node\">\n<title>20129</title>\n<ellipse fill=\"none\" stroke=\"orangered\" cx=\"27.52\" cy=\"-442.63\" rx=\"27.65\" ry=\"12.04\"/>\n<text text-anchor=\"middle\" x=\"27.52\" y=\"-440.73\" font-family=\"monospace\" font-size=\"8.00\" fill=\"mediumslateblue\">20129</text>\n</g>\n<!-- 3473&#45;&gt;20129 -->\n<g id=\"edge14\" class=\"edge\">\n<title>3473&#45;&gt;20129</title>\n<path fill=\"none\" stroke=\"gray\" d=\"M84.09,-433.73C77.64,-434.75 70.49,-435.87 63.51,-436.97\"/>\n<polygon fill=\"gray\" stroke=\"gray\" points=\"62.84,-433.53 53.51,-438.54 63.93,-440.45 62.84,-433.53\"/>\n</g>\n<!-- 2 -->\n<g id=\"node11\" class=\"node\">\n<title>2</title>\n<ellipse fill=\"none\" stroke=\"orangered\" cx=\"144.18\" cy=\"-269.21\" rx=\"14.7\" ry=\"12.04\"/>\n<text text-anchor=\"middle\" x=\"144.18\" y=\"-267.31\" font-family=\"monospace\" font-size=\"8.00\" fill=\"mediumslateblue\">2</text>\n</g>\n<!-- 3472&#45;&gt;2 -->\n<g id=\"edge15\" class=\"edge\">\n<title>3472&#45;&gt;2</title>\n<path fill=\"none\" stroke=\"gray\" d=\"M114.86,-335.06C120.2,-323.07 128.58,-304.24 135.02,-289.78\"/>\n<polygon fill=\"gray\" stroke=\"gray\" points=\"138.24,-291.17 139.11,-280.61 131.84,-288.32 138.24,-291.17\"/>\n</g>\n<!-- 2&#45;&gt;1 -->\n<g id=\"edge16\" class=\"edge\">\n<title>2&#45;&gt;1</title>\n<path fill=\"none\" stroke=\"gray\" d=\"M153.48,-279.15C157.34,-283.28 161.95,-288.21 166.34,-292.91\"/>\n<polygon fill=\"gray\" stroke=\"gray\" points=\"163.98,-295.5 173.37,-300.42 169.09,-290.72 163.98,-295.5\"/>\n</g>\n<!-- 3165 -->\n<g id=\"node12\" class=\"node\">\n<title>3165</title>\n<ellipse fill=\"none\" stroke=\"orangered\" cx=\"189.9\" cy=\"-210.38\" rx=\"25\" ry=\"12.04\"/>\n<text text-anchor=\"middle\" x=\"189.9\" y=\"-208.48\" font-family=\"monospace\" font-size=\"8.00\" fill=\"mediumslateblue\">3165</text>\n</g>\n<!-- 2&#45;&gt;3165 -->\n<g id=\"edge17\" class=\"edge\">\n<title>2&#45;&gt;3165</title>\n<path fill=\"none\" stroke=\"gray\" d=\"M152.14,-258.97C158.4,-250.92 167.28,-239.49 174.86,-229.73\"/>\n<polygon fill=\"gray\" stroke=\"gray\" points=\"177.72,-231.76 181.09,-221.72 172.19,-227.47 177.72,-231.76\"/>\n</g>\n<!-- 3 -->\n<g id=\"node13\" class=\"node\">\n<title>3</title>\n<ellipse fill=\"none\" stroke=\"orangered\" cx=\"251.52\" cy=\"-154.53\" rx=\"14.7\" ry=\"12.04\"/>\n<text text-anchor=\"middle\" x=\"251.52\" y=\"-152.63\" font-family=\"monospace\" font-size=\"8.00\" fill=\"mediumslateblue\">3</text>\n</g>\n<!-- 3165&#45;&gt;3 -->\n<g id=\"edge18\" class=\"edge\">\n<title>3165&#45;&gt;3</title>\n<path fill=\"none\" stroke=\"gray\" d=\"M201.78,-199.61C210.83,-191.41 223.44,-179.98 233.7,-170.68\"/>\n<polygon fill=\"gray\" stroke=\"gray\" points=\"236.25,-173.09 241.31,-163.78 231.55,-167.91 236.25,-173.09\"/>\n</g>\n<!-- 4 -->\n<g id=\"node55\" class=\"node\">\n<title>4</title>\n<ellipse fill=\"none\" stroke=\"orangered\" cx=\"297.01\" cy=\"-95.18\" rx=\"14.7\" ry=\"12.04\"/>\n<text text-anchor=\"middle\" x=\"297.01\" y=\"-93.28\" font-family=\"monospace\" font-size=\"8.00\" fill=\"mediumslateblue\">4</text>\n</g>\n<!-- 3&#45;&gt;4 -->\n<g id=\"edge19\" class=\"edge\">\n<title>3&#45;&gt;4</title>\n<path fill=\"none\" stroke=\"gray\" d=\"M259.45,-144.19C265.9,-135.76 275.19,-123.65 282.91,-113.58\"/>\n<polygon fill=\"gray\" stroke=\"gray\" points=\"285.88,-115.46 289.18,-105.4 280.32,-111.2 285.88,-115.46\"/>\n</g>\n<!-- 5 -->\n<g id=\"node14\" class=\"node\">\n<title>5</title>\n<ellipse fill=\"none\" stroke=\"orangered\" cx=\"292.61\" cy=\"-195.01\" rx=\"14.7\" ry=\"12.04\"/>\n<text text-anchor=\"middle\" x=\"292.61\" y=\"-193.11\" font-family=\"monospace\" font-size=\"8.00\" fill=\"mediumslateblue\">5</text>\n</g>\n<!-- 5&#45;&gt;3 -->\n<g id=\"edge21\" class=\"edge\">\n<title>5&#45;&gt;3</title>\n<path fill=\"none\" stroke=\"gray\" d=\"M283.08,-185.62C278.73,-181.33 273.43,-176.11 268.43,-171.19\"/>\n<polygon fill=\"gray\" stroke=\"gray\" points=\"270.58,-168.39 261,-163.87 265.67,-173.38 270.58,-168.39\"/>\n</g>\n<!-- 72 -->\n<g id=\"node15\" class=\"node\">\n<title>72</title>\n<ellipse fill=\"none\" stroke=\"orangered\" cx=\"266.23\" cy=\"-247.52\" rx=\"18.27\" ry=\"12.04\"/>\n<text text-anchor=\"middle\" x=\"266.23\" y=\"-245.62\" font-family=\"monospace\" font-size=\"8.00\" fill=\"mediumslateblue\">72</text>\n</g>\n<!-- 5&#45;&gt;72 -->\n<g id=\"edge20\" class=\"edge\">\n<title>5&#45;&gt;72</title>\n<path fill=\"none\" stroke=\"gray\" d=\"M287.02,-206.15C283.98,-212.19 280.13,-219.85 276.57,-226.94\"/>\n<polygon fill=\"gray\" stroke=\"gray\" points=\"273.36,-225.53 272,-236.03 279.62,-228.67 273.36,-225.53\"/>\n</g>\n<!-- 55943 -->\n<g id=\"node16\" class=\"node\">\n<title>55943</title>\n<ellipse fill=\"none\" stroke=\"orangered\" cx=\"290.93\" cy=\"-302.3\" rx=\"27.65\" ry=\"12.04\"/>\n<text text-anchor=\"middle\" x=\"290.93\" y=\"-300.4\" font-family=\"monospace\" font-size=\"8.00\" fill=\"mediumslateblue\">55943</text>\n</g>\n<!-- 72&#45;&gt;55943 -->\n<g id=\"edge22\" class=\"edge\">\n<title>72&#45;&gt;55943</title>\n<path fill=\"none\" stroke=\"gray\" d=\"M271.47,-259.14C274.34,-265.51 278,-273.62 281.36,-281.08\"/>\n<polygon fill=\"gray\" stroke=\"gray\" points=\"278.23,-282.64 285.53,-290.32 284.61,-279.77 278.23,-282.64\"/>\n</g>\n<!-- 55943&#45;&gt;6 -->\n<g id=\"edge23\" class=\"edge\">\n<title>55943&#45;&gt;6</title>\n<path fill=\"none\" stroke=\"gray\" d=\"M275.79,-312.4C269.04,-316.91 260.99,-322.29 253.71,-327.14\"/>\n<polygon fill=\"gray\" stroke=\"gray\" points=\"251.45,-324.44 245.08,-332.9 255.34,-330.26 251.45,-324.44\"/>\n</g>\n<!-- 55944 -->\n<g id=\"node56\" class=\"node\">\n<title>55944</title>\n<ellipse fill=\"none\" stroke=\"orangered\" cx=\"335.76\" cy=\"-358.16\" rx=\"27.65\" ry=\"12.04\"/>\n<text text-anchor=\"middle\" x=\"335.76\" y=\"-356.26\" font-family=\"monospace\" font-size=\"8.00\" fill=\"mediumslateblue\">55944</text>\n</g>\n<!-- 55943&#45;&gt;55944 -->\n<g id=\"edge24\" class=\"edge\">\n<title>55943&#45;&gt;55944</title>\n<path fill=\"none\" stroke=\"gray\" d=\"M300.22,-313.88C305.99,-321.07 313.55,-330.49 320.22,-338.79\"/>\n<polygon fill=\"gray\" stroke=\"gray\" points=\"317.49,-340.99 326.48,-346.6 322.95,-336.61 317.49,-340.99\"/>\n</g>\n<!-- 89758 -->\n<g id=\"node18\" class=\"node\">\n<title>89758</title>\n<ellipse fill=\"none\" stroke=\"orangered\" cx=\"413.62\" cy=\"-608.12\" rx=\"27.65\" ry=\"12.04\"/>\n<text text-anchor=\"middle\" x=\"413.62\" y=\"-606.22\" font-family=\"monospace\" font-size=\"8.00\" fill=\"mediumslateblue\">89758</text>\n</g>\n<!-- 20398&#45;&gt;89758 -->\n<g id=\"edge25\" class=\"edge\">\n<title>20398&#45;&gt;89758</title>\n<path fill=\"none\" stroke=\"gray\" d=\"M357.06,-617.46C363.61,-616.38 370.76,-615.2 377.69,-614.05\"/>\n<polygon fill=\"gray\" stroke=\"gray\" points=\"378.32,-617.5 387.61,-612.41 377.17,-610.59 378.32,-617.5\"/>\n</g>\n<!-- 25784 -->\n<g id=\"node19\" class=\"node\">\n<title>25784</title>\n<ellipse fill=\"none\" stroke=\"orangered\" cx=\"445.76\" cy=\"-665.99\" rx=\"27.65\" ry=\"12.04\"/>\n<text text-anchor=\"middle\" x=\"445.76\" y=\"-664.09\" font-family=\"monospace\" font-size=\"8.00\" fill=\"mediumslateblue\">25784</text>\n</g>\n<!-- 89758&#45;&gt;25784 -->\n<g id=\"edge26\" class=\"edge\">\n<title>89758&#45;&gt;25784</title>\n<path fill=\"none\" stroke=\"gray\" d=\"M420.12,-619.83C424.22,-627.2 429.62,-636.92 434.4,-645.54\"/>\n<polygon fill=\"gray\" stroke=\"gray\" points=\"431.35,-647.25 439.26,-654.3 437.47,-643.86 431.35,-647.25\"/>\n</g>\n<!-- 89759 -->\n<g id=\"node57\" class=\"node\">\n<title>89759</title>\n<ellipse fill=\"none\" stroke=\"orangered\" cx=\"477.1\" cy=\"-557.34\" rx=\"27.65\" ry=\"12.04\"/>\n<text text-anchor=\"middle\" x=\"477.1\" y=\"-555.44\" font-family=\"monospace\" font-size=\"8.00\" fill=\"mediumslateblue\">89759</text>\n</g>\n<!-- 89758&#45;&gt;89759 -->\n<g id=\"edge27\" class=\"edge\">\n<title>89758&#45;&gt;89759</title>\n<path fill=\"none\" stroke=\"gray\" d=\"M427.08,-597.35C435.42,-590.69 446.3,-581.98 455.78,-574.4\"/>\n<polygon fill=\"gray\" stroke=\"gray\" points=\"458.04,-577.07 463.66,-568.1 453.66,-571.61 458.04,-577.07\"/>\n</g>\n<!-- 25783 -->\n<g id=\"node20\" class=\"node\">\n<title>25783</title>\n<ellipse fill=\"none\" stroke=\"orangered\" cx=\"522.69\" cy=\"-634.9\" rx=\"27.65\" ry=\"12.04\"/>\n<text text-anchor=\"middle\" x=\"522.69\" y=\"-633\" font-family=\"monospace\" font-size=\"8.00\" fill=\"mediumslateblue\">25783</text>\n</g>\n<!-- 25784&#45;&gt;25783 -->\n<g id=\"edge28\" class=\"edge\">\n<title>25784&#45;&gt;25783</title>\n<path fill=\"none\" stroke=\"gray\" d=\"M466.37,-657.66C474.54,-654.36 484.1,-650.49 492.99,-646.9\"/>\n<polygon fill=\"gray\" stroke=\"gray\" points=\"494.32,-650.14 502.28,-643.14 491.7,-643.65 494.32,-650.14\"/>\n</g>\n<!-- 3456 -->\n<g id=\"node21\" class=\"node\">\n<title>3456</title>\n<ellipse fill=\"none\" stroke=\"orangered\" cx=\"574.65\" cy=\"-569.09\" rx=\"25\" ry=\"12.04\"/>\n<text text-anchor=\"middle\" x=\"574.65\" y=\"-567.19\" font-family=\"monospace\" font-size=\"8.00\" fill=\"mediumslateblue\">3456</text>\n</g>\n<!-- 25783&#45;&gt;3456 -->\n<g id=\"edge29\" class=\"edge\">\n<title>25783&#45;&gt;3456</title>\n<path fill=\"none\" stroke=\"gray\" d=\"M531.74,-623.43C539.34,-613.81 550.36,-599.85 559.33,-588.49\"/>\n<polygon fill=\"gray\" stroke=\"gray\" points=\"562.25,-590.44 565.7,-580.42 556.76,-586.1 562.25,-590.44\"/>\n</g>\n<!-- 90270 -->\n<g id=\"node58\" class=\"node\">\n<title>90270</title>\n<ellipse fill=\"none\" stroke=\"orangered\" cx=\"567.92\" cy=\"-699.9\" rx=\"27.65\" ry=\"12.04\"/>\n<text text-anchor=\"middle\" x=\"567.92\" y=\"-698\" font-family=\"monospace\" font-size=\"8.00\" fill=\"mediumslateblue\">90270</text>\n</g>\n<!-- 25783&#45;&gt;90270 -->\n<g id=\"edge30\" class=\"edge\">\n<title>25783&#45;&gt;90270</title>\n<path fill=\"none\" stroke=\"gray\" d=\"M530.77,-646.52C537.21,-655.76 546.36,-668.91 553.97,-679.85\"/>\n<polygon fill=\"gray\" stroke=\"gray\" points=\"551.32,-682.17 559.91,-688.38 557.07,-678.17 551.32,-682.17\"/>\n</g>\n<!-- 10285 -->\n<g id=\"node22\" class=\"node\">\n<title>10285</title>\n<ellipse fill=\"none\" stroke=\"orangered\" cx=\"613.71\" cy=\"-493.51\" rx=\"27.65\" ry=\"12.04\"/>\n<text text-anchor=\"middle\" x=\"613.71\" y=\"-491.61\" font-family=\"monospace\" font-size=\"8.00\" fill=\"mediumslateblue\">10285</text>\n</g>\n<!-- 3456&#45;&gt;10285 -->\n<g id=\"edge31\" class=\"edge\">\n<title>3456&#45;&gt;10285</title>\n<path fill=\"none\" stroke=\"gray\" d=\"M580.75,-557.28C586.62,-545.92 595.63,-528.49 602.75,-514.72\"/>\n<polygon fill=\"gray\" stroke=\"gray\" points=\"606.04,-515.97 607.52,-505.48 599.82,-512.76 606.04,-515.97\"/>\n</g>\n<!-- 93165 -->\n<g id=\"node59\" class=\"node\">\n<title>93165</title>\n<ellipse fill=\"none\" stroke=\"orangered\" cx=\"634.2\" cy=\"-616.99\" rx=\"27.65\" ry=\"12.04\"/>\n<text text-anchor=\"middle\" x=\"634.2\" y=\"-615.09\" font-family=\"monospace\" font-size=\"8.00\" fill=\"mediumslateblue\">93165</text>\n</g>\n<!-- 3456&#45;&gt;93165 -->\n<g id=\"edge32\" class=\"edge\">\n<title>3456&#45;&gt;93165</title>\n<path fill=\"none\" stroke=\"gray\" d=\"M587.57,-579.49C594.96,-585.43 604.42,-593.03 612.88,-599.84\"/>\n<polygon fill=\"gray\" stroke=\"gray\" points=\"610.91,-602.75 620.89,-606.29 615.29,-597.29 610.91,-602.75\"/>\n</g>\n<!-- 20279 -->\n<g id=\"node23\" class=\"node\">\n<title>20279</title>\n<ellipse fill=\"none\" stroke=\"orangered\" cx=\"652.3\" cy=\"-412.92\" rx=\"27.65\" ry=\"12.04\"/>\n<text text-anchor=\"middle\" x=\"652.3\" y=\"-411.02\" font-family=\"monospace\" font-size=\"8.00\" fill=\"mediumslateblue\">20279</text>\n</g>\n<!-- 10285&#45;&gt;20279 -->\n<g id=\"edge33\" class=\"edge\">\n<title>10285&#45;&gt;20279</title>\n<path fill=\"none\" stroke=\"gray\" d=\"M619.41,-481.62C625.39,-469.12 634.93,-449.2 642.2,-434.03\"/>\n<polygon fill=\"gray\" stroke=\"gray\" points=\"645.42,-435.39 646.58,-424.86 639.11,-432.37 645.42,-435.39\"/>\n</g>\n<!-- 20257 -->\n<g id=\"node60\" class=\"node\">\n<title>20257</title>\n<ellipse fill=\"none\" stroke=\"orangered\" cx=\"667.28\" cy=\"-550.63\" rx=\"27.65\" ry=\"12.04\"/>\n<text text-anchor=\"middle\" x=\"667.28\" y=\"-548.73\" font-family=\"monospace\" font-size=\"8.00\" fill=\"mediumslateblue\">20257</text>\n</g>\n<!-- 10285&#45;&gt;20257 -->\n<g id=\"edge34\" class=\"edge\">\n<title>10285&#45;&gt;20257</title>\n<path fill=\"none\" stroke=\"gray\" d=\"M624.29,-504.79C631.56,-512.54 641.37,-523 649.78,-531.97\"/>\n<polygon fill=\"gray\" stroke=\"gray\" points=\"647.32,-534.47 656.71,-539.37 652.43,-529.68 647.32,-534.47\"/>\n</g>\n<!-- 2996 -->\n<g id=\"node24\" class=\"node\">\n<title>2996</title>\n<ellipse fill=\"none\" stroke=\"orangered\" cx=\"734.11\" cy=\"-396.58\" rx=\"25\" ry=\"12.04\"/>\n<text text-anchor=\"middle\" x=\"734.11\" y=\"-394.68\" font-family=\"monospace\" font-size=\"8.00\" fill=\"mediumslateblue\">2996</text>\n</g>\n<!-- 20279&#45;&gt;2996 -->\n<g id=\"edge35\" class=\"edge\">\n<title>20279&#45;&gt;2996</title>\n<path fill=\"none\" stroke=\"gray\" d=\"M677.74,-407.84C685.17,-406.36 693.41,-404.71 701.24,-403.15\"/>\n<polygon fill=\"gray\" stroke=\"gray\" points=\"702.07,-406.55 711.19,-401.16 700.7,-399.69 702.07,-406.55\"/>\n</g>\n<!-- 61002 -->\n<g id=\"node25\" class=\"node\">\n<title>61002</title>\n<ellipse fill=\"none\" stroke=\"orangered\" cx=\"796.01\" cy=\"-439.05\" rx=\"27.65\" ry=\"12.04\"/>\n<text text-anchor=\"middle\" x=\"796.01\" y=\"-437.15\" font-family=\"monospace\" font-size=\"8.00\" fill=\"mediumslateblue\">61002</text>\n</g>\n<!-- 2996&#45;&gt;61002 -->\n<g id=\"edge36\" class=\"edge\">\n<title>2996&#45;&gt;61002</title>\n<path fill=\"none\" stroke=\"gray\" d=\"M748.47,-406.43C755.6,-411.32 764.4,-417.36 772.49,-422.91\"/>\n<polygon fill=\"gray\" stroke=\"gray\" points=\"770.64,-425.89 780.87,-428.66 774.6,-420.12 770.64,-425.89\"/>\n</g>\n<!-- 93130 -->\n<g id=\"node61\" class=\"node\">\n<title>93130</title>\n<ellipse fill=\"none\" stroke=\"orangered\" cx=\"797.75\" cy=\"-343.79\" rx=\"27.65\" ry=\"12.04\"/>\n<text text-anchor=\"middle\" x=\"797.75\" y=\"-341.89\" font-family=\"monospace\" font-size=\"8.00\" fill=\"mediumslateblue\">93130</text>\n</g>\n<!-- 2996&#45;&gt;93130 -->\n<g id=\"edge37\" class=\"edge\">\n<title>2996&#45;&gt;93130</title>\n<path fill=\"none\" stroke=\"gray\" d=\"M746.68,-386.15C755.29,-379.01 766.9,-369.38 776.87,-361.11\"/>\n<polygon fill=\"gray\" stroke=\"gray\" points=\"779.3,-363.64 784.77,-354.56 774.84,-358.25 779.3,-363.64\"/>\n</g>\n<!-- 51747 -->\n<g id=\"node26\" class=\"node\">\n<title>51747</title>\n<ellipse fill=\"none\" stroke=\"orangered\" cx=\"760.6\" cy=\"-500.19\" rx=\"27.65\" ry=\"12.04\"/>\n<text text-anchor=\"middle\" x=\"760.6\" y=\"-498.29\" font-family=\"monospace\" font-size=\"8.00\" fill=\"mediumslateblue\">51747</text>\n</g>\n<!-- 61002&#45;&gt;51747 -->\n<g id=\"edge38\" class=\"edge\">\n<title>61002&#45;&gt;51747</title>\n<path fill=\"none\" stroke=\"gray\" d=\"M789.18,-450.84C784.48,-458.96 778.11,-469.96 772.57,-479.52\"/>\n<polygon fill=\"gray\" stroke=\"gray\" points=\"769.39,-478.03 767.41,-488.44 775.45,-481.54 769.39,-478.03\"/>\n</g>\n<!-- 93131 -->\n<g id=\"node62\" class=\"node\">\n<title>93131</title>\n<ellipse fill=\"none\" stroke=\"orangered\" cx=\"860.48\" cy=\"-485.25\" rx=\"27.65\" ry=\"12.04\"/>\n<text text-anchor=\"middle\" x=\"860.48\" y=\"-483.35\" font-family=\"monospace\" font-size=\"8.00\" fill=\"mediumslateblue\">93131</text>\n</g>\n<!-- 61002&#45;&gt;93131 -->\n<g id=\"edge39\" class=\"edge\">\n<title>61002&#45;&gt;93131</title>\n<path fill=\"none\" stroke=\"gray\" d=\"M810.64,-449.53C818.63,-455.26 828.71,-462.49 837.71,-468.94\"/>\n<polygon fill=\"gray\" stroke=\"gray\" points=\"835.74,-471.83 845.91,-474.81 839.82,-466.14 835.74,-471.83\"/>\n</g>\n<!-- 93140 -->\n<g id=\"node27\" class=\"node\">\n<title>93140</title>\n<ellipse fill=\"none\" stroke=\"orangered\" cx=\"715.46\" cy=\"-428.77\" rx=\"27.65\" ry=\"12.04\"/>\n<text text-anchor=\"middle\" x=\"715.46\" y=\"-426.87\" font-family=\"monospace\" font-size=\"8.00\" fill=\"mediumslateblue\">93140</text>\n</g>\n<!-- 51747&#45;&gt;93140 -->\n<g id=\"edge40\" class=\"edge\">\n<title>51747&#45;&gt;93140</title>\n<path fill=\"none\" stroke=\"gray\" d=\"M753.15,-488.39C746.46,-477.81 736.49,-462.04 728.49,-449.37\"/>\n<polygon fill=\"gray\" stroke=\"gray\" points=\"731.38,-447.4 723.08,-440.82 725.46,-451.14 731.38,-447.4\"/>\n</g>\n<!-- 93167 -->\n<g id=\"node63\" class=\"node\">\n<title>93167</title>\n<ellipse fill=\"none\" stroke=\"orangered\" cx=\"755.83\" cy=\"-580.42\" rx=\"27.65\" ry=\"12.04\"/>\n<text text-anchor=\"middle\" x=\"755.83\" y=\"-578.52\" font-family=\"monospace\" font-size=\"8.00\" fill=\"mediumslateblue\">93167</text>\n</g>\n<!-- 51747&#45;&gt;93167 -->\n<g id=\"edge41\" class=\"edge\">\n<title>51747&#45;&gt;93167</title>\n<path fill=\"none\" stroke=\"gray\" d=\"M759.88,-512.37C759.16,-524.46 758.04,-543.26 757.16,-558.04\"/>\n<polygon fill=\"gray\" stroke=\"gray\" points=\"753.65,-558.19 756.55,-568.38 760.63,-558.61 753.65,-558.19\"/>\n</g>\n<!-- 90309 -->\n<g id=\"node28\" class=\"node\">\n<title>90309</title>\n<ellipse fill=\"none\" stroke=\"orangered\" cx=\"684.44\" cy=\"-346.93\" rx=\"27.65\" ry=\"12.04\"/>\n<text text-anchor=\"middle\" x=\"684.44\" y=\"-345.03\" font-family=\"monospace\" font-size=\"8.00\" fill=\"mediumslateblue\">90309</text>\n</g>\n<!-- 93140&#45;&gt;90309 -->\n<g id=\"edge42\" class=\"edge\">\n<title>93140&#45;&gt;90309</title>\n<path fill=\"none\" stroke=\"gray\" d=\"M710.88,-416.69C706.12,-404.12 698.55,-384.16 692.73,-368.8\"/>\n<polygon fill=\"gray\" stroke=\"gray\" points=\"695.85,-367.17 689.03,-359.06 689.31,-369.65 695.85,-367.17\"/>\n</g>\n<!-- 10593 -->\n<g id=\"node29\" class=\"node\">\n<title>10593</title>\n<ellipse fill=\"none\" stroke=\"orangered\" cx=\"688.56\" cy=\"-296.57\" rx=\"27.65\" ry=\"12.04\"/>\n<text text-anchor=\"middle\" x=\"688.56\" y=\"-294.67\" font-family=\"monospace\" font-size=\"8.00\" fill=\"mediumslateblue\">10593</text>\n</g>\n<!-- 90309&#45;&gt;10593 -->\n<g id=\"edge43\" class=\"edge\">\n<title>90309&#45;&gt;10593</title>\n<path fill=\"none\" stroke=\"gray\" d=\"M685.43,-334.74C685.83,-329.92 686.3,-324.22 686.75,-318.71\"/>\n<polygon fill=\"gray\" stroke=\"gray\" points=\"690.24,-318.9 687.57,-308.65 683.27,-318.33 690.24,-318.9\"/>\n</g>\n<!-- 20265 -->\n<g id=\"node30\" class=\"node\">\n<title>20265</title>\n<ellipse fill=\"none\" stroke=\"orangered\" cx=\"618.13\" cy=\"-274.29\" rx=\"27.65\" ry=\"12.04\"/>\n<text text-anchor=\"middle\" x=\"618.13\" y=\"-272.39\" font-family=\"monospace\" font-size=\"8.00\" fill=\"mediumslateblue\">20265</text>\n</g>\n<!-- 10593&#45;&gt;20265 -->\n<g id=\"edge44\" class=\"edge\">\n<title>10593&#45;&gt;20265</title>\n<path fill=\"none\" stroke=\"gray\" d=\"M665.89,-289.4C660.99,-287.85 655.71,-286.18 650.52,-284.54\"/>\n<polygon fill=\"gray\" stroke=\"gray\" points=\"651.35,-281.13 640.76,-281.45 649.24,-287.8 651.35,-281.13\"/>\n</g>\n<!-- 8 -->\n<g id=\"node64\" class=\"node\">\n<title>8</title>\n<ellipse fill=\"none\" stroke=\"orangered\" cx=\"572.06\" cy=\"-308.11\" rx=\"14.7\" ry=\"12.04\"/>\n<text text-anchor=\"middle\" x=\"572.06\" y=\"-306.21\" font-family=\"monospace\" font-size=\"8.00\" fill=\"mediumslateblue\">8</text>\n</g>\n<!-- 20265&#45;&gt;8 -->\n<g id=\"edge45\" class=\"edge\">\n<title>20265&#45;&gt;8</title>\n<path fill=\"none\" stroke=\"gray\" d=\"M603.56,-284.99C599.78,-287.76 595.64,-290.8 591.65,-293.73\"/>\n<polygon fill=\"gray\" stroke=\"gray\" points=\"589.32,-291.1 583.33,-299.84 593.46,-296.74 589.32,-291.1\"/>\n</g>\n<!-- 20389 -->\n<g id=\"node65\" class=\"node\">\n<title>20389</title>\n<ellipse fill=\"none\" stroke=\"orangered\" cx=\"638.34\" cy=\"-230.92\" rx=\"27.65\" ry=\"12.04\"/>\n<text text-anchor=\"middle\" x=\"638.34\" y=\"-229.02\" font-family=\"monospace\" font-size=\"8.00\" fill=\"mediumslateblue\">20389</text>\n</g>\n<!-- 20265&#45;&gt;20389 -->\n<g id=\"edge46\" class=\"edge\">\n<title>20265&#45;&gt;20389</title>\n<path fill=\"none\" stroke=\"gray\" d=\"M623.65,-262.44C625.17,-259.18 626.86,-255.56 628.53,-251.96\"/>\n<polygon fill=\"gray\" stroke=\"gray\" points=\"631.77,-253.3 632.82,-242.75 625.43,-250.34 631.77,-253.3\"/>\n</g>\n<!-- 9 -->\n<g id=\"node31\" class=\"node\">\n<title>9</title>\n<ellipse fill=\"none\" stroke=\"orangered\" cx=\"253.3\" cy=\"-38.26\" rx=\"14.7\" ry=\"12.04\"/>\n<text text-anchor=\"middle\" x=\"253.3\" y=\"-36.36\" font-family=\"monospace\" font-size=\"8.00\" fill=\"mediumslateblue\">9</text>\n</g>\n<!-- 90834 -->\n<g id=\"node32\" class=\"node\">\n<title>90834</title>\n<ellipse fill=\"none\" stroke=\"orangered\" cx=\"235.74\" cy=\"-109.76\" rx=\"27.65\" ry=\"12.04\"/>\n<text text-anchor=\"middle\" x=\"235.74\" y=\"-107.86\" font-family=\"monospace\" font-size=\"8.00\" fill=\"mediumslateblue\">90834</text>\n</g>\n<!-- 9&#45;&gt;90834 -->\n<g id=\"edge47\" class=\"edge\">\n<title>9&#45;&gt;90834</title>\n<path fill=\"none\" stroke=\"gray\" d=\"M250.4,-50.07C247.9,-60.25 244.22,-75.24 241.17,-87.64\"/>\n<polygon fill=\"gray\" stroke=\"gray\" points=\"237.69,-87.15 238.7,-97.7 244.49,-88.82 237.69,-87.15\"/>\n</g>\n<!-- 17 -->\n<g id=\"node66\" class=\"node\">\n<title>17</title>\n<ellipse fill=\"none\" stroke=\"orangered\" cx=\"200.01\" cy=\"-12.2\" rx=\"18.27\" ry=\"12.04\"/>\n<text text-anchor=\"middle\" x=\"200.01\" y=\"-10.3\" font-family=\"monospace\" font-size=\"8.00\" fill=\"mediumslateblue\">17</text>\n</g>\n<!-- 9&#45;&gt;17 -->\n<g id=\"edge48\" class=\"edge\">\n<title>9&#45;&gt;17</title>\n<path fill=\"none\" stroke=\"gray\" d=\"M240.4,-31.95C235.5,-29.56 229.76,-26.75 224.16,-24.01\"/>\n<polygon fill=\"gray\" stroke=\"gray\" points=\"225.58,-20.81 215.06,-19.56 222.5,-27.09 225.58,-20.81\"/>\n</g>\n<!-- 90833 -->\n<g id=\"node33\" class=\"node\">\n<title>90833</title>\n<ellipse fill=\"none\" stroke=\"orangered\" cx=\"348.73\" cy=\"-136.45\" rx=\"27.65\" ry=\"12.04\"/>\n<text text-anchor=\"middle\" x=\"348.73\" y=\"-134.55\" font-family=\"monospace\" font-size=\"8.00\" fill=\"mediumslateblue\">90833</text>\n</g>\n<!-- 90834&#45;&gt;90833 -->\n<g id=\"edge49\" class=\"edge\">\n<title>90834&#45;&gt;90833</title>\n<path fill=\"none\" stroke=\"gray\" d=\"M260.26,-115.55C276.1,-119.3 296.94,-124.22 314.42,-128.35\"/>\n<polygon fill=\"gray\" stroke=\"gray\" points=\"313.72,-131.78 324.26,-130.67 315.33,-124.97 313.72,-131.78\"/>\n</g>\n<!-- 90835 -->\n<g id=\"node67\" class=\"node\">\n<title>90835</title>\n<ellipse fill=\"none\" stroke=\"orangered\" cx=\"165.08\" cy=\"-104.97\" rx=\"27.65\" ry=\"12.04\"/>\n<text text-anchor=\"middle\" x=\"165.08\" y=\"-103.07\" font-family=\"monospace\" font-size=\"8.00\" fill=\"mediumslateblue\">90835</text>\n</g>\n<!-- 90834&#45;&gt;90835 -->\n<g id=\"edge50\" class=\"edge\">\n<title>90834&#45;&gt;90835</title>\n<path fill=\"none\" stroke=\"gray\" d=\"M208.22,-107.9C206.46,-107.78 204.68,-107.65 202.88,-107.53\"/>\n<polygon fill=\"gray\" stroke=\"gray\" points=\"202.86,-104.02 192.64,-106.84 202.38,-111.01 202.86,-104.02\"/>\n</g>\n<!-- 51748 -->\n<g id=\"node34\" class=\"node\">\n<title>51748</title>\n<ellipse fill=\"none\" stroke=\"orangered\" cx=\"417.82\" cy=\"-93.09\" rx=\"27.65\" ry=\"12.04\"/>\n<text text-anchor=\"middle\" x=\"417.82\" y=\"-91.19\" font-family=\"monospace\" font-size=\"8.00\" fill=\"mediumslateblue\">51748</text>\n</g>\n<!-- 90833&#45;&gt;51748 -->\n<g id=\"edge51\" class=\"edge\">\n<title>90833&#45;&gt;51748</title>\n<path fill=\"none\" stroke=\"gray\" d=\"M364.75,-126.4C373.21,-121.09 383.77,-114.46 393.24,-108.51\"/>\n<polygon fill=\"gray\" stroke=\"gray\" points=\"395.28,-111.37 401.88,-103.09 391.55,-105.44 395.28,-111.37\"/>\n</g>\n<!-- 10284 -->\n<g id=\"node35\" class=\"node\">\n<title>10284</title>\n<ellipse fill=\"none\" stroke=\"orangered\" cx=\"492.84\" cy=\"-110.16\" rx=\"27.65\" ry=\"12.04\"/>\n<text text-anchor=\"middle\" x=\"492.84\" y=\"-108.26\" font-family=\"monospace\" font-size=\"8.00\" fill=\"mediumslateblue\">10284</text>\n</g>\n<!-- 51748&#45;&gt;10284 -->\n<g id=\"edge52\" class=\"edge\">\n<title>51748&#45;&gt;10284</title>\n<path fill=\"none\" stroke=\"gray\" d=\"M442.39,-98.68C447.44,-99.83 452.85,-101.06 458.18,-102.27\"/>\n<polygon fill=\"gray\" stroke=\"gray\" points=\"457.7,-105.75 468.22,-104.56 459.25,-98.92 457.7,-105.75\"/>\n</g>\n<!-- 51749 -->\n<g id=\"node68\" class=\"node\">\n<title>51749</title>\n<ellipse fill=\"none\" stroke=\"orangered\" cx=\"439.3\" cy=\"-14.53\" rx=\"27.65\" ry=\"12.04\"/>\n<text text-anchor=\"middle\" x=\"439.3\" y=\"-12.63\" font-family=\"monospace\" font-size=\"8.00\" fill=\"mediumslateblue\">51749</text>\n</g>\n<!-- 51748&#45;&gt;51749 -->\n<g id=\"edge53\" class=\"edge\">\n<title>51748&#45;&gt;51749</title>\n<path fill=\"none\" stroke=\"gray\" d=\"M421.18,-80.81C424.39,-69.05 429.32,-51.03 433.22,-36.75\"/>\n<polygon fill=\"gray\" stroke=\"gray\" points=\"436.7,-37.29 435.96,-26.72 429.95,-35.44 436.7,-37.29\"/>\n</g>\n<!-- 20140 -->\n<g id=\"node36\" class=\"node\">\n<title>20140</title>\n<ellipse fill=\"none\" stroke=\"orangered\" cx=\"455.89\" cy=\"-162.72\" rx=\"27.65\" ry=\"12.04\"/>\n<text text-anchor=\"middle\" x=\"455.89\" y=\"-160.82\" font-family=\"monospace\" font-size=\"8.00\" fill=\"mediumslateblue\">20140</text>\n</g>\n<!-- 10284&#45;&gt;20140 -->\n<g id=\"edge54\" class=\"edge\">\n<title>10284&#45;&gt;20140</title>\n<path fill=\"none\" stroke=\"gray\" d=\"M484.64,-121.82C480.34,-127.95 474.94,-135.62 469.99,-142.67\"/>\n<polygon fill=\"gray\" stroke=\"gray\" points=\"466.96,-140.89 464.07,-151.08 472.69,-144.92 466.96,-140.89\"/>\n</g>\n<!-- 93166 -->\n<g id=\"node69\" class=\"node\">\n<title>93166</title>\n<ellipse fill=\"none\" stroke=\"orangered\" cx=\"539.91\" cy=\"-67.28\" rx=\"27.65\" ry=\"12.04\"/>\n<text text-anchor=\"middle\" x=\"539.91\" y=\"-65.38\" font-family=\"monospace\" font-size=\"8.00\" fill=\"mediumslateblue\">93166</text>\n</g>\n<!-- 10284&#45;&gt;93166 -->\n<g id=\"edge55\" class=\"edge\">\n<title>10284&#45;&gt;93166</title>\n<path fill=\"none\" stroke=\"gray\" d=\"M505.21,-98.89C509.79,-94.73 515.09,-89.89 520.16,-85.27\"/>\n<polygon fill=\"gray\" stroke=\"gray\" points=\"522.75,-87.64 527.79,-78.32 518.04,-82.47 522.75,-87.64\"/>\n</g>\n<!-- 20106 -->\n<g id=\"node37\" class=\"node\">\n<title>20106</title>\n<ellipse fill=\"none\" stroke=\"orangered\" cx=\"427.64\" cy=\"-236.22\" rx=\"27.65\" ry=\"12.04\"/>\n<text text-anchor=\"middle\" x=\"427.64\" y=\"-234.32\" font-family=\"monospace\" font-size=\"8.00\" fill=\"mediumslateblue\">20106</text>\n</g>\n<!-- 20140&#45;&gt;20106 -->\n<g id=\"edge56\" class=\"edge\">\n<title>20140&#45;&gt;20106</title>\n<path fill=\"none\" stroke=\"gray\" d=\"M451.23,-174.85C447.07,-185.67 440.9,-201.73 435.91,-214.72\"/>\n<polygon fill=\"gray\" stroke=\"gray\" points=\"432.54,-213.72 432.22,-224.31 439.07,-216.23 432.54,-213.72\"/>\n</g>\n<!-- 10287 -->\n<g id=\"node38\" class=\"node\">\n<title>10287</title>\n<ellipse fill=\"none\" stroke=\"orangered\" cx=\"496.24\" cy=\"-277.28\" rx=\"27.65\" ry=\"12.04\"/>\n<text text-anchor=\"middle\" x=\"496.24\" y=\"-275.38\" font-family=\"monospace\" font-size=\"8.00\" fill=\"mediumslateblue\">10287</text>\n</g>\n<!-- 20106&#45;&gt;10287 -->\n<g id=\"edge57\" class=\"edge\">\n<title>20106&#45;&gt;10287</title>\n<path fill=\"none\" stroke=\"gray\" d=\"M443.9,-245.95C451.98,-250.79 461.93,-256.75 470.98,-262.16\"/>\n<polygon fill=\"gray\" stroke=\"gray\" points=\"469.24,-265.2 479.62,-267.34 472.84,-259.2 469.24,-265.2\"/>\n</g>\n<!-- 20101 -->\n<g id=\"node39\" class=\"node\">\n<title>20101</title>\n<ellipse fill=\"none\" stroke=\"orangered\" cx=\"519.66\" cy=\"-355.81\" rx=\"27.65\" ry=\"12.04\"/>\n<text text-anchor=\"middle\" x=\"519.66\" y=\"-353.91\" font-family=\"monospace\" font-size=\"8.00\" fill=\"mediumslateblue\">20101</text>\n</g>\n<!-- 10287&#45;&gt;20101 -->\n<g id=\"edge58\" class=\"edge\">\n<title>10287&#45;&gt;20101</title>\n<path fill=\"none\" stroke=\"gray\" d=\"M499.79,-289.21C503.34,-301.08 508.85,-319.59 513.18,-334.08\"/>\n<polygon fill=\"gray\" stroke=\"gray\" points=\"509.85,-335.18 516.07,-343.77 516.56,-333.18 509.85,-335.18\"/>\n</g>\n<!-- 20246 -->\n<g id=\"node70\" class=\"node\">\n<title>20246</title>\n<ellipse fill=\"none\" stroke=\"orangered\" cx=\"542.63\" cy=\"-211.48\" rx=\"27.65\" ry=\"12.04\"/>\n<text text-anchor=\"middle\" x=\"542.63\" y=\"-209.58\" font-family=\"monospace\" font-size=\"8.00\" fill=\"mediumslateblue\">20246</text>\n</g>\n<!-- 10287&#45;&gt;20246 -->\n<g id=\"edge59\" class=\"edge\">\n<title>10287&#45;&gt;20246</title>\n<path fill=\"none\" stroke=\"gray\" d=\"M504.53,-265.52C511.19,-256.07 520.7,-242.58 528.55,-231.45\"/>\n<polygon fill=\"gray\" stroke=\"gray\" points=\"531.5,-233.34 534.41,-223.15 525.78,-229.3 531.5,-233.34\"/>\n</g>\n<!-- 20107 -->\n<g id=\"node40\" class=\"node\">\n<title>20107</title>\n<ellipse fill=\"none\" stroke=\"orangered\" cx=\"459.12\" cy=\"-408.24\" rx=\"27.65\" ry=\"12.04\"/>\n<text text-anchor=\"middle\" x=\"459.12\" y=\"-406.34\" font-family=\"monospace\" font-size=\"8.00\" fill=\"mediumslateblue\">20107</text>\n</g>\n<!-- 20101&#45;&gt;20107 -->\n<g id=\"edge60\" class=\"edge\">\n<title>20101&#45;&gt;20107</title>\n<path fill=\"none\" stroke=\"gray\" d=\"M507.11,-366.67C499.08,-373.63 488.47,-382.82 479.27,-390.79\"/>\n<polygon fill=\"gray\" stroke=\"gray\" points=\"476.91,-388.2 471.65,-397.39 481.5,-393.49 476.91,-388.2\"/>\n</g>\n<!-- 20136 -->\n<g id=\"node41\" class=\"node\">\n<title>20136</title>\n<ellipse fill=\"none\" stroke=\"orangered\" cx=\"377.41\" cy=\"-411.76\" rx=\"27.65\" ry=\"12.04\"/>\n<text text-anchor=\"middle\" x=\"377.41\" y=\"-409.86\" font-family=\"monospace\" font-size=\"8.00\" fill=\"mediumslateblue\">20136</text>\n</g>\n<!-- 20107&#45;&gt;20136 -->\n<g id=\"edge61\" class=\"edge\">\n<title>20107&#45;&gt;20136</title>\n<path fill=\"none\" stroke=\"gray\" d=\"M431.46,-409.43C426.27,-409.66 420.76,-409.89 415.32,-410.13\"/>\n<polygon fill=\"gray\" stroke=\"gray\" points=\"414.89,-406.64 405.05,-410.57 415.19,-413.64 414.89,-406.64\"/>\n</g>\n<!-- 20134 -->\n<g id=\"node71\" class=\"node\">\n<title>20134</title>\n<ellipse fill=\"none\" stroke=\"orangered\" cx=\"528.29\" cy=\"-445.07\" rx=\"27.65\" ry=\"12.04\"/>\n<text text-anchor=\"middle\" x=\"528.29\" y=\"-443.17\" font-family=\"monospace\" font-size=\"8.00\" fill=\"mediumslateblue\">20134</text>\n</g>\n<!-- 20107&#45;&gt;20134 -->\n<g id=\"edge62\" class=\"edge\">\n<title>20107&#45;&gt;20134</title>\n<path fill=\"none\" stroke=\"gray\" d=\"M476.93,-417.72C484.49,-421.75 493.47,-426.53 501.78,-430.95\"/>\n<polygon fill=\"gray\" stroke=\"gray\" points=\"500.3,-434.13 510.78,-435.74 503.59,-427.95 500.3,-434.13\"/>\n</g>\n<!-- 20135 -->\n<g id=\"node72\" class=\"node\">\n<title>20135</title>\n<ellipse fill=\"none\" stroke=\"orangered\" cx=\"444.45\" cy=\"-482.87\" rx=\"27.65\" ry=\"12.04\"/>\n<text text-anchor=\"middle\" x=\"444.45\" y=\"-480.97\" font-family=\"monospace\" font-size=\"8.00\" fill=\"mediumslateblue\">20135</text>\n</g>\n<!-- 20107&#45;&gt;20135 -->\n<g id=\"edge63\" class=\"edge\">\n<title>20107&#45;&gt;20135</title>\n<path fill=\"none\" stroke=\"gray\" d=\"M456.76,-420.23C454.61,-431.15 451.39,-447.56 448.78,-460.84\"/>\n<polygon fill=\"gray\" stroke=\"gray\" points=\"445.34,-460.17 446.85,-470.66 452.21,-461.52 445.34,-460.17\"/>\n</g>\n<!-- 20131 -->\n<g id=\"node42\" class=\"node\">\n<title>20131</title>\n<ellipse fill=\"none\" stroke=\"orangered\" cx=\"322.31\" cy=\"-474.71\" rx=\"27.65\" ry=\"12.04\"/>\n<text text-anchor=\"middle\" x=\"322.31\" y=\"-472.81\" font-family=\"monospace\" font-size=\"8.00\" fill=\"mediumslateblue\">20131</text>\n</g>\n<!-- 20136&#45;&gt;20131 -->\n<g id=\"edge64\" class=\"edge\">\n<title>20136&#45;&gt;20131</title>\n<path fill=\"none\" stroke=\"gray\" d=\"M367.56,-423.02C359.67,-432.03 348.41,-444.89 339.1,-455.53\"/>\n<polygon fill=\"gray\" stroke=\"gray\" points=\"336.4,-453.3 332.45,-463.13 341.67,-457.91 336.4,-453.3\"/>\n</g>\n<!-- 20137 -->\n<g id=\"node73\" class=\"node\">\n<title>20137</title>\n<ellipse fill=\"none\" stroke=\"orangered\" cx=\"420.54\" cy=\"-342.01\" rx=\"27.65\" ry=\"12.04\"/>\n<text text-anchor=\"middle\" x=\"420.54\" y=\"-340.11\" font-family=\"monospace\" font-size=\"8.00\" fill=\"mediumslateblue\">20137</text>\n</g>\n<!-- 20136&#45;&gt;20137 -->\n<g id=\"edge65\" class=\"edge\">\n<title>20136&#45;&gt;20137</title>\n<path fill=\"none\" stroke=\"gray\" d=\"M384.73,-399.93C391.09,-389.65 400.44,-374.52 407.99,-362.31\"/>\n<polygon fill=\"gray\" stroke=\"gray\" points=\"411.05,-364.01 413.33,-353.67 405.1,-360.33 411.05,-364.01\"/>\n</g>\n<!-- 20131&#45;&gt;10 -->\n<g id=\"edge66\" class=\"edge\">\n<title>20131&#45;&gt;10</title>\n<path fill=\"none\" stroke=\"gray\" d=\"M304.18,-484.09C294.97,-488.84 283.69,-494.67 273.84,-499.76\"/>\n<polygon fill=\"gray\" stroke=\"gray\" points=\"272.23,-496.65 264.95,-504.35 275.44,-502.87 272.23,-496.65\"/>\n</g>\n<!-- 11 -->\n<g id=\"node43\" class=\"node\">\n<title>11</title>\n<ellipse fill=\"none\" stroke=\"orangered\" cx=\"841.28\" cy=\"-687.81\" rx=\"18.27\" ry=\"12.04\"/>\n<text text-anchor=\"middle\" x=\"841.28\" y=\"-685.91\" font-family=\"monospace\" font-size=\"8.00\" fill=\"mediumslateblue\">11</text>\n</g>\n<!-- 65165 -->\n<g id=\"node44\" class=\"node\">\n<title>65165</title>\n<ellipse fill=\"none\" stroke=\"orangered\" cx=\"807.38\" cy=\"-721.98\" rx=\"27.65\" ry=\"12.04\"/>\n<text text-anchor=\"middle\" x=\"807.38\" y=\"-720.08\" font-family=\"monospace\" font-size=\"8.00\" fill=\"mediumslateblue\">65165</text>\n</g>\n<!-- 11&#45;&gt;65165 -->\n<g id=\"edge67\" class=\"edge\">\n<title>11&#45;&gt;65165</title>\n<path fill=\"none\" stroke=\"gray\" d=\"M830.92,-698.25C829.34,-699.84 827.67,-701.53 825.98,-703.24\"/>\n<polygon fill=\"gray\" stroke=\"gray\" points=\"823.17,-701.09 818.62,-710.66 828.14,-706.02 823.17,-701.09\"/>\n</g>\n<!-- 16 -->\n<g id=\"node74\" class=\"node\">\n<title>16</title>\n<ellipse fill=\"none\" stroke=\"orangered\" cx=\"889.02\" cy=\"-708.36\" rx=\"18.27\" ry=\"12.04\"/>\n<text text-anchor=\"middle\" x=\"889.02\" y=\"-706.46\" font-family=\"monospace\" font-size=\"8.00\" fill=\"mediumslateblue\">16</text>\n</g>\n<!-- 11&#45;&gt;16 -->\n<g id=\"edge68\" class=\"edge\">\n<title>11&#45;&gt;16</title>\n<path fill=\"none\" stroke=\"gray\" d=\"M856.65,-694.43C858.99,-695.43 861.45,-696.49 863.93,-697.56\"/>\n<polygon fill=\"gray\" stroke=\"gray\" points=\"862.79,-700.88 873.35,-701.62 865.55,-694.45 862.79,-700.88\"/>\n</g>\n<!-- 26831 -->\n<g id=\"node45\" class=\"node\">\n<title>26831</title>\n<ellipse fill=\"none\" stroke=\"orangered\" cx=\"844.41\" cy=\"-758.5\" rx=\"27.65\" ry=\"12.04\"/>\n<text text-anchor=\"middle\" x=\"844.41\" y=\"-756.6\" font-family=\"monospace\" font-size=\"8.00\" fill=\"mediumslateblue\">26831</text>\n</g>\n<!-- 65165&#45;&gt;26831 -->\n<g id=\"edge69\" class=\"edge\">\n<title>65165&#45;&gt;26831</title>\n<path fill=\"none\" stroke=\"gray\" d=\"M818.7,-733.14C820.99,-735.4 823.46,-737.84 825.94,-740.28\"/>\n<polygon fill=\"gray\" stroke=\"gray\" points=\"823.59,-742.89 833.17,-747.42 828.51,-737.9 823.59,-742.89\"/>\n</g>\n<!-- 37013 -->\n<g id=\"node46\" class=\"node\">\n<title>37013</title>\n<ellipse fill=\"none\" stroke=\"orangered\" cx=\"853.87\" cy=\"-807.02\" rx=\"27.65\" ry=\"12.04\"/>\n<text text-anchor=\"middle\" x=\"853.87\" y=\"-805.12\" font-family=\"monospace\" font-size=\"8.00\" fill=\"mediumslateblue\">37013</text>\n</g>\n<!-- 26831&#45;&gt;37013 -->\n<g id=\"edge70\" class=\"edge\">\n<title>26831&#45;&gt;37013</title>\n<path fill=\"none\" stroke=\"gray\" d=\"M846.8,-770.74C847.63,-775.03 848.6,-779.98 849.54,-784.82\"/>\n<polygon fill=\"gray\" stroke=\"gray\" points=\"846.17,-785.8 851.51,-794.95 853.04,-784.46 846.17,-785.8\"/>\n</g>\n<!-- 12 -->\n<g id=\"node75\" class=\"node\">\n<title>12</title>\n<ellipse fill=\"none\" stroke=\"orangered\" cx=\"841.9\" cy=\"-851.41\" rx=\"18.27\" ry=\"12.04\"/>\n<text text-anchor=\"middle\" x=\"841.9\" y=\"-849.51\" font-family=\"monospace\" font-size=\"8.00\" fill=\"mediumslateblue\">12</text>\n</g>\n<!-- 37013&#45;&gt;12 -->\n<g id=\"edge71\" class=\"edge\">\n<title>37013&#45;&gt;12</title>\n<path fill=\"none\" stroke=\"gray\" d=\"M850.6,-819.15C849.72,-822.37 848.76,-825.97 847.79,-829.54\"/>\n<polygon fill=\"gray\" stroke=\"gray\" points=\"844.39,-828.72 845.16,-839.29 851.15,-830.55 844.39,-828.72\"/>\n</g>\n<!-- 13 -->\n<g id=\"node47\" class=\"node\">\n<title>13</title>\n<ellipse fill=\"none\" stroke=\"orangered\" cx=\"772.81\" cy=\"-115.69\" rx=\"18.27\" ry=\"12.04\"/>\n<text text-anchor=\"middle\" x=\"772.81\" y=\"-113.79\" font-family=\"monospace\" font-size=\"8.00\" fill=\"mediumslateblue\">13</text>\n</g>\n<!-- 25 -->\n<g id=\"node48\" class=\"node\">\n<title>25</title>\n<ellipse fill=\"none\" stroke=\"orangered\" cx=\"746.14\" cy=\"-168.43\" rx=\"18.27\" ry=\"12.04\"/>\n<text text-anchor=\"middle\" x=\"746.14\" y=\"-166.53\" font-family=\"monospace\" font-size=\"8.00\" fill=\"mediumslateblue\">25</text>\n</g>\n<!-- 13&#45;&gt;25 -->\n<g id=\"edge72\" class=\"edge\">\n<title>13&#45;&gt;25</title>\n<path fill=\"none\" stroke=\"gray\" d=\"M767.02,-127.14C763.95,-133.22 760.07,-140.88 756.5,-147.94\"/>\n<polygon fill=\"gray\" stroke=\"gray\" points=\"753.3,-146.51 751.92,-157.01 759.55,-149.66 753.3,-146.51\"/>\n</g>\n<!-- 15 -->\n<g id=\"node76\" class=\"node\">\n<title>15</title>\n<ellipse fill=\"none\" stroke=\"orangered\" cx=\"830.47\" cy=\"-122.36\" rx=\"18.27\" ry=\"12.04\"/>\n<text text-anchor=\"middle\" x=\"830.47\" y=\"-120.46\" font-family=\"monospace\" font-size=\"8.00\" fill=\"mediumslateblue\">15</text>\n</g>\n<!-- 13&#45;&gt;15 -->\n<g id=\"edge73\" class=\"edge\">\n<title>13&#45;&gt;15</title>\n<path fill=\"none\" stroke=\"gray\" d=\"M791.05,-117.8C794.52,-118.2 798.23,-118.63 801.93,-119.06\"/>\n<polygon fill=\"gray\" stroke=\"gray\" points=\"801.81,-122.57 812.14,-120.24 802.61,-115.62 801.81,-122.57\"/>\n</g>\n<!-- 65164 -->\n<g id=\"node49\" class=\"node\">\n<title>65164</title>\n<ellipse fill=\"none\" stroke=\"orangered\" cx=\"806.5\" cy=\"-199.37\" rx=\"27.65\" ry=\"12.04\"/>\n<text text-anchor=\"middle\" x=\"806.5\" y=\"-197.47\" font-family=\"monospace\" font-size=\"8.00\" fill=\"mediumslateblue\">65164</text>\n</g>\n<!-- 25&#45;&gt;65164 -->\n<g id=\"edge74\" class=\"edge\">\n<title>25&#45;&gt;65164</title>\n<path fill=\"none\" stroke=\"gray\" d=\"M760.75,-175.92C766.38,-178.8 773,-182.2 779.43,-185.49\"/>\n<polygon fill=\"gray\" stroke=\"gray\" points=\"778.08,-188.73 788.58,-190.18 781.27,-182.5 778.08,-188.73\"/>\n</g>\n<!-- 73 -->\n<g id=\"node50\" class=\"node\">\n<title>73</title>\n<ellipse fill=\"none\" stroke=\"orangered\" cx=\"845.91\" cy=\"-236.24\" rx=\"18.27\" ry=\"12.04\"/>\n<text text-anchor=\"middle\" x=\"845.91\" y=\"-234.34\" font-family=\"monospace\" font-size=\"8.00\" fill=\"mediumslateblue\">73</text>\n</g>\n<!-- 65164&#45;&gt;73 -->\n<g id=\"edge75\" class=\"edge\">\n<title>65164&#45;&gt;73</title>\n<path fill=\"none\" stroke=\"gray\" d=\"M818.54,-210.63C821.46,-213.36 824.65,-216.35 827.78,-219.28\"/>\n<polygon fill=\"gray\" stroke=\"gray\" points=\"825.59,-222.02 835.28,-226.29 830.37,-216.91 825.59,-222.02\"/>\n</g>\n<!-- 14 -->\n<g id=\"node77\" class=\"node\">\n<title>14</title>\n<ellipse fill=\"none\" stroke=\"orangered\" cx=\"807.06\" cy=\"-287.85\" rx=\"18.27\" ry=\"12.04\"/>\n<text text-anchor=\"middle\" x=\"807.06\" y=\"-285.95\" font-family=\"monospace\" font-size=\"8.00\" fill=\"mediumslateblue\">14</text>\n</g>\n<!-- 73&#45;&gt;14 -->\n<g id=\"edge76\" class=\"edge\">\n<title>73&#45;&gt;14</title>\n<path fill=\"none\" stroke=\"gray\" d=\"M837.67,-247.18C832.93,-253.48 826.85,-261.56 821.35,-268.86\"/>\n<polygon fill=\"gray\" stroke=\"gray\" points=\"818.5,-266.82 815.29,-276.92 824.1,-271.03 818.5,-266.82\"/>\n</g>\n<!-- 74 -->\n<g id=\"node78\" class=\"node\">\n<title>74</title>\n<ellipse fill=\"none\" stroke=\"orangered\" cx=\"895.19\" cy=\"-238.43\" rx=\"18.27\" ry=\"12.04\"/>\n<text text-anchor=\"middle\" x=\"895.19\" y=\"-236.53\" font-family=\"monospace\" font-size=\"8.00\" fill=\"mediumslateblue\">74</text>\n</g>\n<!-- 73&#45;&gt;74 -->\n<g id=\"edge77\" class=\"edge\">\n<title>73&#45;&gt;74</title>\n<path fill=\"none\" stroke=\"gray\" d=\"M864.26,-237.05C865.02,-237.09 865.79,-237.12 866.56,-237.16\"/>\n<polygon fill=\"gray\" stroke=\"gray\" points=\"866.52,-240.66 876.66,-237.6 866.83,-233.66 866.52,-240.66\"/>\n</g>\n</g>\n</svg>\n",
      "text/plain": [
       "<graphviz.graphs.Digraph at 0x287d7a40550>"
      ]
     },
     "execution_count": 31,
     "metadata": {},
     "output_type": "execute_result"
    }
   ],
   "source": [
    "adjlShow(origins_targets_limited, directed=True, layout=\"fdp\")"
   ]
  },
  {
   "cell_type": "code",
   "execution_count": 1,
   "metadata": {},
   "outputs": [],
   "source": [
    "from library.lima_node_api import DB_API"
   ]
  },
  {
   "cell_type": "code",
   "execution_count": 13,
   "metadata": {},
   "outputs": [],
   "source": [
    "import heapq as hq\n",
    "import math"
   ]
  },
  {
   "cell_type": "code",
   "execution_count": 14,
   "metadata": {},
   "outputs": [],
   "source": [
    "def dijkstra(G, s):\n",
    "  keys = [*G.keys()]\n",
    "  n = len(keys)\n",
    "  visited = [False]*n\n",
    "  path = [-1]*n\n",
    "  cost = [math.inf]*n\n",
    "\n",
    "  cost[s] = 0\n",
    "  pqueue = [(0, s)]\n",
    "  while pqueue:\n",
    "    g, u = hq.heappop(pqueue)\n",
    "    if not visited[u]:\n",
    "      visited[u] = True\n",
    "      for v, w in G[u]:\n",
    "        if not visited[v]:\n",
    "          f = g + w\n",
    "          if f < cost[v]:\n",
    "            cost[v] = f\n",
    "            path[v] = u\n",
    "            hq.heappush(pqueue, (f, v))\n",
    "\n",
    "  return path, cost"
   ]
  },
  {
   "cell_type": "code",
   "execution_count": 15,
   "metadata": {},
   "outputs": [
    {
     "ename": "TypeError",
     "evalue": "cannot unpack non-iterable int object",
     "output_type": "error",
     "traceback": [
      "\u001b[1;31m---------------------------------------------------------------------------\u001b[0m",
      "\u001b[1;31mTypeError\u001b[0m                                 Traceback (most recent call last)",
      "\u001b[1;32md:\\DiegoAlonso\\myfiles\\dev\\vscode\\universidad\\complejidad-ciclo-6\\tf_complejidad\\src\\generate-graph.ipynb Cell 15'\u001b[0m in \u001b[0;36m<cell line: 1>\u001b[1;34m()\u001b[0m\n\u001b[1;32m----> <a href='vscode-notebook-cell:/d%3A/DiegoAlonso/myfiles/dev/vscode/universidad/complejidad-ciclo-6/tf_complejidad/src/generate-graph.ipynb#ch0000018?line=0'>1</a>\u001b[0m path, cost \u001b[39m=\u001b[39m dijkstra(origins_targets, \u001b[39m1\u001b[39;49m)\n\u001b[0;32m      <a href='vscode-notebook-cell:/d%3A/DiegoAlonso/myfiles/dev/vscode/universidad/complejidad-ciclo-6/tf_complejidad/src/generate-graph.ipynb#ch0000018?line=1'>2</a>\u001b[0m \u001b[39mprint\u001b[39m(path)\n\u001b[0;32m      <a href='vscode-notebook-cell:/d%3A/DiegoAlonso/myfiles/dev/vscode/universidad/complejidad-ciclo-6/tf_complejidad/src/generate-graph.ipynb#ch0000018?line=2'>3</a>\u001b[0m \u001b[39mprint\u001b[39m(cost)\n",
      "\u001b[1;32md:\\DiegoAlonso\\myfiles\\dev\\vscode\\universidad\\complejidad-ciclo-6\\tf_complejidad\\src\\generate-graph.ipynb Cell 14'\u001b[0m in \u001b[0;36mdijkstra\u001b[1;34m(G, s)\u001b[0m\n\u001b[0;32m     <a href='vscode-notebook-cell:/d%3A/DiegoAlonso/myfiles/dev/vscode/universidad/complejidad-ciclo-6/tf_complejidad/src/generate-graph.ipynb#ch0000019?line=10'>11</a>\u001b[0m \u001b[39mif\u001b[39;00m \u001b[39mnot\u001b[39;00m visited[u]:\n\u001b[0;32m     <a href='vscode-notebook-cell:/d%3A/DiegoAlonso/myfiles/dev/vscode/universidad/complejidad-ciclo-6/tf_complejidad/src/generate-graph.ipynb#ch0000019?line=11'>12</a>\u001b[0m   visited[u] \u001b[39m=\u001b[39m \u001b[39mTrue\u001b[39;00m\n\u001b[1;32m---> <a href='vscode-notebook-cell:/d%3A/DiegoAlonso/myfiles/dev/vscode/universidad/complejidad-ciclo-6/tf_complejidad/src/generate-graph.ipynb#ch0000019?line=12'>13</a>\u001b[0m   \u001b[39mfor\u001b[39;00m v, w \u001b[39min\u001b[39;00m G[u]:\n\u001b[0;32m     <a href='vscode-notebook-cell:/d%3A/DiegoAlonso/myfiles/dev/vscode/universidad/complejidad-ciclo-6/tf_complejidad/src/generate-graph.ipynb#ch0000019?line=13'>14</a>\u001b[0m     \u001b[39mif\u001b[39;00m \u001b[39mnot\u001b[39;00m visited[v]:\n\u001b[0;32m     <a href='vscode-notebook-cell:/d%3A/DiegoAlonso/myfiles/dev/vscode/universidad/complejidad-ciclo-6/tf_complejidad/src/generate-graph.ipynb#ch0000019?line=14'>15</a>\u001b[0m       f \u001b[39m=\u001b[39m g \u001b[39m+\u001b[39m w\n",
      "\u001b[1;31mTypeError\u001b[0m: cannot unpack non-iterable int object"
     ]
    }
   ],
   "source": [
    "path, cost = dijkstra(origins_targets, 1)\n",
    "print(path)\n",
    "print(cost)"
   ]
  },
  {
   "cell_type": "code",
   "execution_count": 8,
   "metadata": {},
   "outputs": [
    {
     "name": "stdout",
     "output_type": "stream",
     "text": [
      "id,cost\n",
      "(1, 0.0005568)\n",
      "weight: 1\n"
     ]
    }
   ],
   "source": [
    "dbApi = DB_API()\n",
    "\n",
    "flags = DB_API.ID + DB_API.COST\n",
    "\n",
    "result = dbApi.getIntersectionInfo(1, 6, flags)\n",
    "print(result)\n",
    "\n",
    "weight = result[0]\n",
    "print(f'weight: {weight}')\n",
    "\n",
    "dbApi.endDbConnection()"
   ]
  }
 ],
 "metadata": {
  "kernelspec": {
   "display_name": "Python 3.10.4 ('my-env')",
   "language": "python",
   "name": "python3"
  },
  "language_info": {
   "codemirror_mode": {
    "name": "ipython",
    "version": 3
   },
   "file_extension": ".py",
   "mimetype": "text/x-python",
   "name": "python",
   "nbconvert_exporter": "python",
   "pygments_lexer": "ipython3",
   "version": "3.10.4"
  },
  "orig_nbformat": 4,
  "vscode": {
   "interpreter": {
    "hash": "5f2abf42ab4bb5bd7966b067f4e3bed27d50e7ca1f6e7eb7257265d6f6a71b0d"
   }
  }
 },
 "nbformat": 4,
 "nbformat_minor": 2
}
