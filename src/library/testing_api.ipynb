{
 "cells": [
  {
   "cell_type": "code",
   "execution_count": 9,
   "metadata": {},
   "outputs": [],
   "source": [
    "# pip install psycopg2\n",
    "import psycopg2\n",
    "\n",
    "# Conexión a la base de datos\n",
    "connection = psycopg2.connect(\n",
    "    host=\"bwmc2spjnkl3asahsdwf-postgresql.services.clever-cloud.com\", \n",
    "    database=\"bwmc2spjnkl3asahsdwf\", \n",
    "    user=\"ui9vqx1cbdowhfoap3dq\", \n",
    "    password=\"9wNAizIxMMQtBryr1tOZ\")\n",
    "\n",
    "# Creamos el cursor con el objeto conexion\n",
    "cur = connection.cursor()\n",
    "\n",
    "horas=[0.5833333,1,6.8,12.6,18.4,24.2,30,26,22,18,14,10,9.25,8.5,7.75,7,12.75,18.5,24.25,30,25.16666667,20.333333,15.5,10.6666667]"
   ]
  },
  {
   "cell_type": "code",
   "execution_count": 2,
   "metadata": {},
   "outputs": [],
   "source": [
    "# id, osm_id, osm_name, osm_meta, osm_source_id, osm_target_id, clazz, flags, source, target, km, kmh, cost, reverse_cost, x1, y1, x2, y2, something\n",
    "NONE = 0\n",
    "ID = 1\n",
    "STREET_ID = 10\n",
    "STREET_NAME = 100\n",
    "SOURCE_NODE_ID = 1000\n",
    "TARGET_NODE_ID = 10000\n",
    "DISTANCE = 100000\n",
    "MAX_SPEED = 1000000\n",
    "COST = 10000000\n",
    "REVERSE_COST = 100000000\n",
    "SOURCE_LONGITUDE = 1000000000\n",
    "SOURCE_LATITUDE = 10000000000\n",
    "TARGET_LONGITUDE = 10000000000\n",
    "TARGET_LATITUDE = 100000000000\n",
    "\n",
    "def generateQueryByFlags(flags):\n",
    "  cFlags = str(flags)\n",
    "  n = len(cFlags)\n",
    "\n",
    "  flagsForQuery = ''\n",
    "\n",
    "  index = -1\n",
    "  while index > -n - 1:\n",
    "    if cFlags[index] == '1':\n",
    "      flagVal = pow(10, abs(index) - 1)\n",
    "      if flagVal == ID:\n",
    "        flagsForQuery += 'id'\n",
    "      elif flagVal == STREET_ID:\n",
    "        flagsForQuery += 'osm_id'\n",
    "      elif flagVal == STREET_NAME:\n",
    "        flagsForQuery += 'osm_name'\n",
    "      elif flagVal == SOURCE_NODE_ID:\n",
    "        flagsForQuery += 'source'\n",
    "      elif flagVal == TARGET_NODE_ID:\n",
    "        flagsForQuery += 'target'\n",
    "      elif flagVal == DISTANCE:\n",
    "        flagsForQuery += 'km'\n",
    "      elif flagVal == MAX_SPEED:\n",
    "        flagsForQuery += 'kmh'\n",
    "      elif flagVal == COST:\n",
    "        flagsForQuery += 'cost'\n",
    "      elif flagVal == REVERSE_COST:\n",
    "        flagsForQuery += 'reverse_cost'\n",
    "      elif flagVal == SOURCE_LONGITUDE:\n",
    "        flagsForQuery += 'x1'\n",
    "      elif flagVal == SOURCE_LATITUDE:\n",
    "        flagsForQuery += 'y1'\n",
    "      elif flagVal == TARGET_LONGITUDE:\n",
    "        flagsForQuery += 'x2'\n",
    "      elif flagVal == TARGET_LATITUDE:\n",
    "        flagsForQuery += 'y2'\n",
    "      else:\n",
    "        continue\n",
    "      flagsForQuery += '' if index == -n else ','\n",
    "    index -= 1\n",
    "\n",
    "  return flagsForQuery"
   ]
  },
  {
   "cell_type": "code",
   "execution_count": 3,
   "metadata": {},
   "outputs": [
    {
     "name": "stdout",
     "output_type": "stream",
     "text": [
      "source,target,cost\n",
      "(1, 6, 0.0005568)\n",
      "weight: 0.0005568\n"
     ]
    }
   ],
   "source": [
    "def getIntersectionInformation(source, target, flags=None):\n",
    "  if not flags or flags == NONE:\n",
    "    print('nada')\n",
    "    return []\n",
    "\n",
    "  flagsForQuery = generateQueryByFlags(flags)\n",
    "  print(flagsForQuery)\n",
    "\n",
    "  query=f\"SELECT {flagsForQuery} FROM \\\"hh_2po_4pgr\\\" WHERE source=\"+str(source)+\" and target=\"+str(target)\n",
    "  \n",
    "  try:\n",
    "    cur.execute(query)\n",
    "  except Exception as e:\n",
    "    connection.commit()\n",
    "    print(e)\n",
    "    return []\n",
    "    \n",
    "  return cur.fetchall()[0]\n",
    "\n",
    "intersection = getIntersectionInformation(1, 6, SOURCE_NODE_ID + TARGET_NODE_ID + COST)\n",
    "print(intersection)\n",
    "\n",
    "weight = intersection[2]\n",
    "print(f'weight: {weight}')"
   ]
  },
  {
   "cell_type": "code",
   "execution_count": 4,
   "metadata": {},
   "outputs": [
    {
     "name": "stdout",
     "output_type": "stream",
     "text": [
      "newWeight: 0.00032479998144000003\n"
     ]
    }
   ],
   "source": [
    "def updateWeightByHour(weight, hour):\n",
    "  return weight * horas[hour]\n",
    "\n",
    "newWeight = updateWeightByHour(weight, 0)\n",
    "print(f'newWeight: {newWeight}')"
   ]
  },
  {
   "cell_type": "code",
   "execution_count": 5,
   "metadata": {},
   "outputs": [
    {
     "name": "stdout",
     "output_type": "stream",
     "text": [
      "[(1, 4827820, 'Plaza 2 de Mayo', None, 31035122, 31035142, 15, 1, 1, 6, 0.0389729, 70, 0.0005568, 1000000.0, -77.0427831, -12.0459308, -77.0430896, -12.0460958, '0102000020E61000000400000093D453F5BC4253C01CC2E73D841728C08C5363F8BE4253C0CCD07822881728C0F15A536AC04253C07CBF2C488E1728C00EB3E1FAC14253C046F762DE991728C0')]\n"
     ]
    }
   ],
   "source": [
    "def getWeight(source, target):\n",
    "  query=\"SELECT * FROM \\\"hh_2po_4pgr\\\" WHERE source=\"+str(source)+\" and target=\"+str(target)\n",
    "  \n",
    "  try:\n",
    "    cur.execute(query)\n",
    "  except Exception as e:\n",
    "    connection.commit()\n",
    "    print(e)\n",
    "    return\n",
    "    \n",
    "  print(cur.fetchall())\n",
    "\n",
    "getWeight(1, 6)"
   ]
  },
  {
   "cell_type": "code",
   "execution_count": 6,
   "metadata": {},
   "outputs": [],
   "source": [
    "def getDistancia(origen, destino):\n",
    "  query=\"SELECT * FROM \\\"hh_2po_4pgr\\\" WHERE source=\"+str(origen)+\" and target=\"+str(destino)\n",
    "  cur.execute(query)\n",
    "  kms=cur.fetchall()[0][11]\n",
    "  return kms"
   ]
  },
  {
   "cell_type": "code",
   "execution_count": 7,
   "metadata": {},
   "outputs": [
    {
     "name": "stdout",
     "output_type": "stream",
     "text": [
      "Reverse\n"
     ]
    }
   ],
   "source": [
    "def existeRuta(origen, destino):\n",
    "   query=\"SELECT * FROM \\\"hh_2po_4pgr\\\" WHERE source=\"+str(origen)+\" and target=\"+str(destino)\n",
    "   cur.execute(query)\n",
    "   result=cur.fetchall()\n",
    "  \n",
    "   if result == []:\n",
    "     query=\"SELECT * FROM \\\"hh_2po_4pgr\\\" WHERE source=\"+str(destino)+\" and target=\"+str(origen)\n",
    "     cur.execute(query)\n",
    "     result2=cur.fetchall()\n",
    "     if result2 == []:\n",
    "       return False\n",
    "     else:\n",
    "       if result2[0][13]== 1000000:\n",
    "        return False\n",
    "       else:\n",
    "          return \"Reverse\"\n",
    "   else: \n",
    "     return True\n",
    "\n",
    "print(existeRuta(55943,72))"
   ]
  },
  {
   "cell_type": "code",
   "execution_count": 8,
   "metadata": {},
   "outputs": [],
   "source": [
    "# Cerrar conexión manualmente\n",
    "connection.close()"
   ]
  },
  {
   "cell_type": "code",
   "execution_count": 35,
   "metadata": {},
   "outputs": [],
   "source": [
    "class DB_API:\n",
    "    # constants\n",
    "    NONE = 0\n",
    "    ID = 1\n",
    "    STREET_ID = 10\n",
    "    STREET_NAME = 100\n",
    "    SOURCE_ID = 1000\n",
    "    TARGET_ID = 10000\n",
    "    DISTANCE = 100000\n",
    "    MAX_SPEED = 1000000\n",
    "    COST = 10000000\n",
    "    REVERSE_COST = 100000000\n",
    "    SOURCE_LONGITUDE = 1000000000\n",
    "    SOURCE_LATITUDE = 10000000000\n",
    "    TARGET_LONGITUDE = 10000000000\n",
    "    TARGET_LATITUDE = 100000000000\n",
    "\n",
    "    def __init__(self):\n",
    "        self.initDbConnection()\n",
    "\n",
    "    def initDbConnection(self):\n",
    "        self.connection = psycopg2.connect(\n",
    "            host=\"bwmc2spjnkl3asahsdwf-postgresql.services.clever-cloud.com\", \n",
    "            database=\"bwmc2spjnkl3asahsdwf\", \n",
    "            user=\"ui9vqx1cbdowhfoap3dq\", \n",
    "            password=\"9wNAizIxMMQtBryr1tOZ\")\n",
    "        self.cur = self.connection.cursor()\n",
    "\n",
    "    def endDbConnection(self):\n",
    "        self.cur.close()\n",
    "        self.connection.close()\n",
    "\n",
    "    def __generateQueryByFlags(self, flags):\n",
    "        cFlags = str(flags)\n",
    "        n = len(cFlags)\n",
    "\n",
    "        flagsForQuery = ''\n",
    "\n",
    "        index = -1\n",
    "        while index > -n - 1:\n",
    "            if cFlags[index] == '1':\n",
    "                flagVal = pow(10, abs(index) - 1)\n",
    "                if flagVal == self.ID:\n",
    "                    flagsForQuery += 'id'\n",
    "                elif flagVal == self.STREET_ID:\n",
    "                    flagsForQuery += 'osm_id'\n",
    "                elif flagVal == self.STREET_NAME:\n",
    "                    flagsForQuery += 'osm_name'\n",
    "                elif flagVal == self.SOURCE_ID:\n",
    "                    flagsForQuery += 'source'\n",
    "                elif flagVal == self.TARGET_ID:\n",
    "                    flagsForQuery += 'target'\n",
    "                elif flagVal == self.DISTANCE:\n",
    "                    flagsForQuery += 'km'\n",
    "                elif flagVal == self.MAX_SPEED:\n",
    "                    flagsForQuery += 'kmh'\n",
    "                elif flagVal == self.COST:\n",
    "                    flagsForQuery += 'cost'\n",
    "                elif flagVal == self.REVERSE_COST:\n",
    "                    flagsForQuery += 'reverse_cost'\n",
    "                elif flagVal == self.SOURCE_LONGITUDE:\n",
    "                    flagsForQuery += 'x1'\n",
    "                elif flagVal == self.SOURCE_LATITUDE:\n",
    "                    flagsForQuery += 'y1'\n",
    "                elif flagVal == self.TARGET_LONGITUDE:\n",
    "                    flagsForQuery += 'x2'\n",
    "                elif flagVal == self.TARGET_LATITUDE:\n",
    "                    flagsForQuery += 'y2'\n",
    "                else:\n",
    "                    continue\n",
    "                flagsForQuery += '' if index == -n else ','\n",
    "            index -= 1\n",
    "\n",
    "        return flagsForQuery\n",
    "    \n",
    "    def getIntersectionInfo(self, source, target, flags=None):\n",
    "        if not flags or flags == self.NONE:\n",
    "            print('nada')\n",
    "            return []\n",
    "\n",
    "        flagsForQuery = self.__generateQueryByFlags(flags)\n",
    "        print(flagsForQuery)\n",
    "\n",
    "        query=f\"SELECT {flagsForQuery} FROM \\\"hh_2po_4pgr\\\" WHERE source=\"+str(source)+\" and target=\"+str(target)\n",
    "  \n",
    "        try:\n",
    "            self.cur.execute(query)\n",
    "        except Exception as e:\n",
    "            self.connection.commit()\n",
    "            print(e)\n",
    "            return []\n",
    "            \n",
    "        return self.cur.fetchall()[0]\n"
   ]
  },
  {
   "cell_type": "code",
   "execution_count": 39,
   "metadata": {},
   "outputs": [
    {
     "name": "stdout",
     "output_type": "stream",
     "text": [
      "source,target,cost\n",
      "(1, 6, 0.0005568)\n",
      "weight: 0.0005568\n"
     ]
    }
   ],
   "source": [
    "dbApi = DB_API()\n",
    "\n",
    "result = dbApi.getIntersectionInfo(1, 6, DB_API.SOURCE_ID + DB_API.TARGET_ID + DB_API.COST)\n",
    "print(result)\n",
    "\n",
    "weight = result[2]\n",
    "print(f'weight: {weight}')\n",
    "\n",
    "dbApi.endDbConnection()"
   ]
  },
  {
   "cell_type": "code",
   "execution_count": 40,
   "metadata": {},
   "outputs": [
    {
     "name": "stdout",
     "output_type": "stream",
     "text": [
      "newWeight: 0.00032479998144000003\n"
     ]
    }
   ],
   "source": [
    "def updateWeightByHour(weight, hour):\n",
    "  return weight * horas[hour]\n",
    "\n",
    "newWeight = updateWeightByHour(weight, 0)\n",
    "print(f'newWeight: {newWeight}')"
   ]
  }
 ],
 "metadata": {
  "kernelspec": {
   "display_name": "Python 3.10.4 ('my-env')",
   "language": "python",
   "name": "python3"
  },
  "language_info": {
   "codemirror_mode": {
    "name": "ipython",
    "version": 3
   },
   "file_extension": ".py",
   "mimetype": "text/x-python",
   "name": "python",
   "nbconvert_exporter": "python",
   "pygments_lexer": "ipython3",
   "version": "3.10.4"
  },
  "orig_nbformat": 4,
  "vscode": {
   "interpreter": {
    "hash": "5f2abf42ab4bb5bd7966b067f4e3bed27d50e7ca1f6e7eb7257265d6f6a71b0d"
   }
  }
 },
 "nbformat": 4,
 "nbformat_minor": 2
}
