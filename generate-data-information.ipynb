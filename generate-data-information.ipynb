{
 "cells": [
  {
   "cell_type": "markdown",
   "metadata": {},
   "source": [
    "# Hito 1\n",
    "Imprimimos nuestra base de datos con la información de las calles para entender cómo debemos leer los datos con un algoritmo"
   ]
  },
  {
   "cell_type": "code",
   "execution_count": 1,
   "metadata": {},
   "outputs": [
    {
     "name": "stdout",
     "output_type": "stream",
     "text": [
      "1 ['id', 'osm_id', 'osm_name', 'osm_meta', 'osm_source_id', 'osm_target_id', 'clazz', 'flags', 'source', 'target', 'km', 'kmh', 'cost', 'reverse_cost', 'x1', 'y1', 'x2', 'y2']\n",
      "2 ['1', '4827820', 'Plaza 2 de Mayo', '', '31035122', '31035142', '15', '1', '1', '6', '0.0389729', '70', '0.0005568', '1000000', '-77.0427831', '-12.0459308', '-77.0430896', '-12.0460958']\n",
      "3 ['2', '4827820', 'Plaza 2 de Mayo', '', '31035142', '31035109', '15', '1', '6', '90275', '0.0040401', '70', '5.77e-05', '1000000', '-77.0430896', '-12.0460958', '-77.0431113', '-12.0461253']\n",
      "4 ['3', '4827820', 'Plaza 2 de Mayo', '', '31035109', '31035110', '15', '1', '90275', '79', '0.0182271', '70', '0.0002604', '1000000', '-77.0431113', '-12.0461253', '-77.0431753', '-12.0462768']\n",
      "5 ['4', '4827820', 'Plaza 2 de Mayo', '', '31035110', '31035112', '15', '1', '79', '51668', '0.0376738', '70', '0.0005382', '1000000', '-77.0431753', '-12.0462768', '-77.0431118', '-12.0466033']\n",
      "\n"
     ]
    }
   ],
   "source": [
    "import csv\n",
    "  \n",
    "with open('../data/all_database.csv', mode ='r')as file:\n",
    "  csvFile = csv.reader(file, delimiter=\";\")\n",
    "  i = 1\n",
    "  colums = 1\n",
    "  debugString = \"\"\n",
    "  for lines in csvFile:\n",
    "    if i > 5:\n",
    "        break\n",
    "    endline = \"\\n\" if i % colums == 0 else \"; \"\n",
    "    debugString += f\"{i} {lines}{endline}\"\n",
    "    i+=1\n",
    "\n",
    "  print(debugString)"
   ]
  },
  {
   "cell_type": "markdown",
   "metadata": {},
   "source": [
    "Creamos un algoritmo que pueda recorrer la información y que registre los id de los nodos origen (osm_source_id) y los nodos destino (osm_target_id). Los cuales serán los elementos principales en nuestro grafo de adyacencia"
   ]
  },
  {
   "cell_type": "code",
   "execution_count": 3,
   "metadata": {},
   "outputs": [],
   "source": [
    "def buildGraph(graph, func, limit=None):\n",
    "  text = ''\n",
    "  i = 1\n",
    "  for key in graph.keys():\n",
    "    if limit:\n",
    "      if i > limit:\n",
    "        break\n",
    "\n",
    "    text += f'{key};;'\n",
    "\n",
    "    for value in graph[key]:\n",
    "      text += f'{value}' + (';' if value != graph[key][-1] else '')\n",
    "\n",
    "    text += '\\n'\n",
    "    i+=1\n",
    "  \n",
    "  func(text)\n",
    "  "
   ]
  },
  {
   "cell_type": "code",
   "execution_count": 26,
   "metadata": {},
   "outputs": [
    {
     "name": "stdout",
     "output_type": "stream",
     "text": [
      "source;;target\n",
      "1;;6\n",
      "6;;90275\n",
      "90275;;79\n",
      "79;;51668;3466\n",
      "51668;;7;3467\n",
      "7;;10;20398\n",
      "10;;89757;20115\n",
      "89757;;3473\n",
      "3473;;3472;20129\n",
      "\n"
     ]
    }
   ],
   "source": [
    "with open('../data/all_database.csv', mode ='r')as file:\n",
    "  csvFile = csv.reader(file, delimiter=\";\")\n",
    "  origins_targets = dict()\n",
    "\n",
    "  for line in csvFile:\n",
    "    originId = line[8]\n",
    "    if originId not in origins_targets.keys():\n",
    "      origins_targets[originId] = []\n",
    "    origins_targets[originId].append(line[9])\n",
    "\n",
    "buildGraph(origins_targets, print, 10)"
   ]
  },
  {
   "cell_type": "markdown",
   "metadata": {},
   "source": [
    "Guardamos esa información de las intersecciones en un archivo .csv"
   ]
  },
  {
   "cell_type": "code",
   "execution_count": 27,
   "metadata": {},
   "outputs": [],
   "source": [
    "f = open(\"streets_intersections.csv\", \"w\")\n",
    "buildGraph(origins_targets, f.write)\n",
    "f.close()"
   ]
  },
  {
   "cell_type": "markdown",
   "metadata": {},
   "source": [
    "Repetimos el proceso, pero esta vez queremos registrar información de cada uno de los nodos que se usarán en el grafo. Un nodo será una coordenada que probablemente pertenece a una calle, mas no es una calle. Este nodo podría representar una intersección entre calles, pero no siempre será el caso."
   ]
  },
  {
   "cell_type": "code",
   "execution_count": 16,
   "metadata": {},
   "outputs": [],
   "source": [
    "def buildNodeInfo(nodes, func, limit=None):\n",
    "  text = ''\n",
    "  attributes = ['node_id', 'lat', 'lon']\n",
    "  i = 1\n",
    "  for node in nodes:\n",
    "    if limit:\n",
    "      if i > limit:\n",
    "        break\n",
    "\n",
    "    for att in attributes:\n",
    "      text += f'{node[att]}' + (';' if att != attributes[-1] else '')\n",
    "    text += '\\n'\n",
    "    i+=1\n",
    "  \n",
    "  func(text)"
   ]
  },
  {
   "cell_type": "code",
   "execution_count": 46,
   "metadata": {},
   "outputs": [
    {
     "name": "stdout",
     "output_type": "stream",
     "text": [
      "node_id;latitude;longitude\n",
      "1;-12.0459308;-77.0427831\n",
      "6;-12.0460958;-77.0430896\n",
      "90275;-12.0461253;-77.0431113\n",
      "\n"
     ]
    }
   ],
   "source": [
    "with open('../data/all_database.csv', mode ='r')as file:\n",
    "  csvFile = csv.reader(file, delimiter=\";\")\n",
    "  node_ids = []\n",
    "  i = 1\n",
    "\n",
    "  for line in csvFile:\n",
    "    if i == 1:\n",
    "      node_ids.append({'node_id': 'node_id', 'lat': 'latitude', 'lon': 'longitude'})\n",
    "      i+=1\n",
    "      continue\n",
    "\n",
    "    originId = line[8]\n",
    "    targetId = line[9]\n",
    "\n",
    "    canAddOrigin = True\n",
    "    canAddTarget = True\n",
    "    \n",
    "    for node in node_ids:\n",
    "      if canAddOrigin and node['node_id'] == originId:\n",
    "        canAddOrigin = False\n",
    "      if canAddTarget and node['node_id'] == targetId:\n",
    "        canAddTarget = False\n",
    "      if not canAddOrigin and not canAddTarget:\n",
    "        break\n",
    "\n",
    "    if canAddOrigin:\n",
    "      node_ids.append({'node_id': originId, 'lat': line[15], 'lon': line[14]})\n",
    "    if canAddTarget:\n",
    "      node_ids.append({'node_id': targetId, 'lat': line[17], 'lon': line[16]})\n",
    "\n",
    "        \n",
    "\n",
    "\n",
    "    # if originId not in node_ids:\n",
    "    #   node_ids.append({'node_id': originId, 'lat': line[15], 'lon': line[14]})\n",
    "    # if targetId not in node_ids:\n",
    "    #   node_ids.append({'node_id': targetId, 'lat': line[17], 'lon': line[16]})\n",
    "    i+=1\n",
    "\n",
    "buildNodeInfo(node_ids, print, 4)"
   ]
  },
  {
   "cell_type": "markdown",
   "metadata": {},
   "source": [
    "Guardamos esa información de los nodos en un archivo .csv"
   ]
  },
  {
   "cell_type": "code",
   "execution_count": 47,
   "metadata": {},
   "outputs": [],
   "source": [
    "f = open(\"nodes_info.csv\", \"w\")\n",
    "buildNodeInfo(node_ids, f.write)\n",
    "f.close()"
   ]
  }
 ],
 "metadata": {
  "kernelspec": {
   "display_name": "Python 3.10.4 ('my-env')",
   "language": "python",
   "name": "python3"
  },
  "language_info": {
   "codemirror_mode": {
    "name": "ipython",
    "version": 3
   },
   "file_extension": ".py",
   "mimetype": "text/x-python",
   "name": "python",
   "nbconvert_exporter": "python",
   "pygments_lexer": "ipython3",
   "version": "3.10.4"
  },
  "orig_nbformat": 4,
  "vscode": {
   "interpreter": {
    "hash": "5f2abf42ab4bb5bd7966b067f4e3bed27d50e7ca1f6e7eb7257265d6f6a71b0d"
   }
  }
 },
 "nbformat": 4,
 "nbformat_minor": 2
}
